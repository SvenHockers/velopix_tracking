{
 "cells": [
  {
   "cell_type": "code",
   "execution_count": 1,
   "metadata": {},
   "outputs": [
    {
     "name": "stdout",
     "output_type": "stream",
     "text": [
      "['Event', 'GraphDFS', 'SearchByTripletTrie', 'TrackFollowing', '__all__', '__builtins__', '__cached__', '__doc__', '__file__', '__loader__', '__name__', '__package__', '__path__', '__spec__', 'validate_efficiency', 'validate_print', 'validate_to_json', 'velopix_tracking']\n"
     ]
    }
   ],
   "source": [
    "import os\n",
    "import json\n",
    "import time\n",
    "from velopix_tracking import Event, TrackFollowing\n",
    "import velopix_tracking as vt\n",
    "\n",
    "print(dir(vt))"
   ]
  },
  {
   "cell_type": "code",
   "execution_count": 2,
   "metadata": {},
   "outputs": [
    {
     "name": "stdout",
     "output_type": "stream",
     "text": [
      "Loading file: velo_event_0.json\n",
      "Loading file: velo_event_1.json\n",
      "Loading file: velo_event_2.json\n",
      "Loading file: velo_event_3.json\n",
      "Loading file: velo_event_4.json\n",
      "Loading file: velo_event_5.json\n",
      "Loading file: velo_event_6.json\n",
      "Loading file: velo_event_7.json\n",
      "Loading file: velo_event_8.json\n",
      "Loading file: velo_event_9.json\n",
      "Loading file: velo_event_10.json\n",
      "Loading file: velo_event_11.json\n",
      "Loading file: velo_event_12.json\n",
      "Loading file: velo_event_13.json\n",
      "Loading file: velo_event_14.json\n",
      "Loading file: velo_event_15.json\n",
      "Loading file: velo_event_16.json\n",
      "Loading file: velo_event_17.json\n",
      "Loading file: velo_event_18.json\n",
      "Loading file: velo_event_19.json\n",
      "Loading file: velo_event_20.json\n",
      "Loading file: velo_event_21.json\n",
      "Loading file: velo_event_22.json\n",
      "Loading file: velo_event_23.json\n",
      "Loading file: velo_event_24.json\n",
      "Loading file: velo_event_25.json\n",
      "Loading file: velo_event_26.json\n",
      "Loading file: velo_event_27.json\n",
      "Loading file: velo_event_28.json\n",
      "Loading file: velo_event_29.json\n",
      "Loading file: velo_event_30.json\n",
      "Loading file: velo_event_31.json\n",
      "Loading file: velo_event_32.json\n",
      "Loading file: velo_event_33.json\n",
      "Loading file: velo_event_34.json\n",
      "Loading file: velo_event_35.json\n",
      "Loading file: velo_event_36.json\n",
      "Loading file: velo_event_37.json\n",
      "Loading file: velo_event_38.json\n",
      "Loading file: velo_event_39.json\n",
      "Loading file: velo_event_40.json\n",
      "Loading file: velo_event_41.json\n",
      "Loading file: velo_event_42.json\n",
      "Loading file: velo_event_43.json\n",
      "Loading file: velo_event_44.json\n",
      "Loading file: velo_event_45.json\n",
      "Loading file: velo_event_46.json\n",
      "Loading file: velo_event_47.json\n",
      "Loading file: velo_event_48.json\n",
      "Loading file: velo_event_49.json\n",
      "Loading file: velo_event_50.json\n",
      "Skipping problematic file: velo_event_51.json\n",
      "Loading file: velo_event_52.json\n",
      "Loading file: velo_event_53.json\n",
      "Loading file: velo_event_54.json\n",
      "Loading file: velo_event_55.json\n",
      "Loading file: velo_event_56.json\n",
      "Loading file: velo_event_57.json\n",
      "Loading file: velo_event_58.json\n",
      "Loading file: velo_event_59.json\n",
      "Loading file: velo_event_60.json\n",
      "Loading file: velo_event_61.json\n",
      "Loading file: velo_event_62.json\n",
      "Loading file: velo_event_63.json\n",
      "Loading file: velo_event_64.json\n",
      "Loading file: velo_event_65.json\n",
      "Loading file: velo_event_66.json\n",
      "Loading file: velo_event_67.json\n",
      "Loading file: velo_event_68.json\n",
      "Loading file: velo_event_69.json\n",
      "Loading file: velo_event_70.json\n",
      "Loading file: velo_event_71.json\n",
      "Loading file: velo_event_72.json\n",
      "Loading file: velo_event_73.json\n",
      "Loading file: velo_event_74.json\n",
      "Loading file: velo_event_75.json\n",
      "Loading file: velo_event_76.json\n",
      "Loading file: velo_event_77.json\n",
      "Loading file: velo_event_78.json\n",
      "Loading file: velo_event_79.json\n",
      "Loading file: velo_event_80.json\n",
      "Loading file: velo_event_81.json\n",
      "Loading file: velo_event_82.json\n",
      "Loading file: velo_event_83.json\n",
      "Loading file: velo_event_84.json\n",
      "Loading file: velo_event_85.json\n",
      "Loading file: velo_event_86.json\n",
      "Loading file: velo_event_87.json\n",
      "Loading file: velo_event_88.json\n",
      "Loading file: velo_event_89.json\n",
      "Loading file: velo_event_90.json\n",
      "Loading file: velo_event_91.json\n",
      "Loading file: velo_event_92.json\n",
      "Loading file: velo_event_93.json\n",
      "Loading file: velo_event_94.json\n",
      "Loading file: velo_event_95.json\n",
      "Loading file: velo_event_96.json\n",
      "Loading file: velo_event_97.json\n",
      "Loading file: velo_event_98.json\n",
      "Loading file: velo_event_99.json\n"
     ]
    }
   ],
   "source": [
    "# Load events from DB folder (events downloaded from CERNBOX)\n",
    "events = []\n",
    "json_events = []\n",
    "\n",
    "for i in range(0, 100):\n",
    "    if i == 51:\n",
    "        \"\"\"\n",
    "        There's an issue with event 51 -> module_prefix_sum contains value 79 twice resulting in and indexing error when loading the event\n",
    "        \"\"\"\n",
    "        print(f\"Skipping problematic file: velo_event_{i}.json\")\n",
    "    else:    \n",
    "        print(f\"Loading file: velo_event_{i}.json\")\n",
    "        event_file = open(os.path.join(\"DB\", f\"velo_event_{i}.json\"))\n",
    "        json_data = json.loads(event_file.read())\n",
    "        events.append(Event(json_data))\n",
    "        json_events.append(json_data)\n",
    "        event_file.close()"
   ]
  },
  {
   "cell_type": "code",
   "execution_count": 3,
   "metadata": {},
   "outputs": [
    {
     "name": "stdout",
     "output_type": "stream",
     "text": [
      "Runtime time: 7.9513 secondsInstantiating track_following solver with parameters\n",
      " max slopes: (0.8, 0.1)\n",
      " max tolerance: (0.3, 0.2)\n",
      " max scatter: 0.35\n",
      "\n",
      "\n"
     ]
    }
   ],
   "source": [
    "max_slopes = (0.8, 0.1)\n",
    "max_tolerance = (0.3, 0.2)\n",
    "scatter = 0.35\n",
    "\n",
    "Tracks = []\n",
    "solver = TrackFollowing(max_slopes, max_tolerance, scatter)\n",
    "start_time = time.time()\n",
    "Tracks_parallel = solver.solve_parallel(events=events)\n",
    "end_time = time.time()\n",
    "# for event in events:\n",
    "#     Tracks.append(solver.solve(event))\n",
    "    # Tracks.append(solver.solve_parallel(event))\n",
    "\n",
    "print(f\"Runtime time: {end_time - start_time:.4f} seconds\")"
   ]
  },
  {
   "cell_type": "code",
   "execution_count": 4,
   "metadata": {},
   "outputs": [],
   "source": [
    "# print(f\"original algo: {type([Tracks[0]])}\")\n",
    "# print(f\"parallel algo: {type(Tracks_parallel[0])}\")\n"
   ]
  },
  {
   "cell_type": "code",
   "execution_count": 5,
   "metadata": {},
   "outputs": [],
   "source": [
    "# file = open(os.path.join(\"DB\", f\"velo_event_0.json\"))\n",
    "# json_data = json.loads(file.read())\n",
    "# file.close()\n"
   ]
  },
  {
   "cell_type": "code",
   "execution_count": 6,
   "metadata": {},
   "outputs": [
    {
     "data": {
      "text/plain": [
       "0.8227848101265823"
      ]
     },
     "execution_count": 6,
     "metadata": {},
     "output_type": "execute_result"
    }
   ],
   "source": [
    "vt.validate_efficiency([json_events[0]], [Tracks_parallel[0]], particle_type=\"long\")"
   ]
  },
  {
   "cell_type": "code",
   "execution_count": 7,
   "metadata": {},
   "outputs": [
    {
     "name": "stdout",
     "output_type": "stream",
     "text": [
      "update_efficiencies: No particles match condition for 'long_strange>5GeV'\n",
      "197 tracks including 5 ghosts (2.5%). Event average ghost rate: 2.5%\n",
      "velo               : 171 from 233 (73.4%, 73.4%) 8 clones (4.68%), purity: (99.11%, 99.11%),  hitEff: (94.19%, 94.19%)\n",
      "long               : 65 from 79 (82.3%, 82.3%) 2 clones (3.08%), purity: (98.84%, 98.84%),  hitEff: (96.11%, 96.11%)\n",
      "long>5GeV          : 46 from 46 (100.0%, 100.0%) 2 clones (4.35%), purity: (98.80%, 98.80%),  hitEff: (94.86%, 94.86%)\n",
      "long_strange       : 1 from 3 (33.3%, 33.3%) 0 clones (0.00%), purity: (100.00%, 100.00%),  hitEff: (100.00%, 100.00%)\n",
      "long_fromb         : 4 from 4 (100.0%, 100.0%) 0 clones (0.00%), purity: (100.00%, 100.00%),  hitEff: (100.00%, 100.00%)\n",
      "long_fromb>5GeV    : 3 from 3 (100.0%, 100.0%) 0 clones (0.00%), purity: (100.00%, 100.00%),  hitEff: (100.00%, 100.00%)\n"
     ]
    }
   ],
   "source": [
    "vt.validate_print([json_events[0]], [Tracks_parallel[0]]) # for a single event"
   ]
  },
  {
   "cell_type": "code",
   "execution_count": 8,
   "metadata": {},
   "outputs": [
    {
     "name": "stdout",
     "output_type": "stream",
     "text": [
      "update_efficiencies: No particles match condition for 'long_strange>5GeV'\n",
      "update_efficiencies: No particles match condition for 'long_strange'\n",
      "update_efficiencies: No particles match condition for 'long_strange>5GeV'\n",
      "update_efficiencies: No particles match condition for 'long_strange'\n",
      "update_efficiencies: No particles match condition for 'long_strange>5GeV'\n",
      "update_efficiencies: No particles match condition for 'long_strange>5GeV'\n",
      "update_efficiencies: No particles match condition for 'long_strange>5GeV'\n",
      "update_efficiencies: No particles match condition for 'long_strange>5GeV'\n",
      "update_efficiencies: No particles match condition for 'long_strange'\n",
      "update_efficiencies: No particles match condition for 'long_strange>5GeV'\n",
      "update_efficiencies: No particles match condition for 'long_strange>5GeV'\n",
      "update_efficiencies: No particles match condition for 'long_strange>5GeV'\n",
      "update_efficiencies: No particles match condition for 'long_strange>5GeV'\n",
      "update_efficiencies: No particles match condition for 'long_strange>5GeV'\n",
      "update_efficiencies: No particles match condition for 'long_fromb>5GeV'\n",
      "update_efficiencies: No particles match condition for 'long_strange>5GeV'\n",
      "update_efficiencies: No particles match condition for 'long_fromb>5GeV'\n",
      "update_efficiencies: No particles match condition for 'long_strange>5GeV'\n",
      "update_efficiencies: No particles match condition for 'long_strange'\n",
      "update_efficiencies: No particles match condition for 'long_strange>5GeV'\n",
      "update_efficiencies: No particles match condition for 'long_strange'\n",
      "update_efficiencies: No particles match condition for 'long_strange>5GeV'\n",
      "update_efficiencies: No particles match condition for 'long_strange>5GeV'\n",
      "update_efficiencies: No particles match condition for 'long_strange'\n",
      "update_efficiencies: No particles match condition for 'long_strange>5GeV'\n",
      "update_efficiencies: No particles match condition for 'long_strange>5GeV'\n",
      "update_efficiencies: No particles match condition for 'long_strange'\n",
      "update_efficiencies: No particles match condition for 'long_strange>5GeV'\n",
      "update_efficiencies: No particles match condition for 'long_strange'\n",
      "update_efficiencies: No particles match condition for 'long_strange>5GeV'\n",
      "update_efficiencies: No particles match condition for 'long_strange>5GeV'\n",
      "update_efficiencies: No particles match condition for 'long_strange'\n",
      "update_efficiencies: No particles match condition for 'long_strange>5GeV'\n",
      "update_efficiencies: No particles match condition for 'long_strange'\n",
      "update_efficiencies: No particles match condition for 'long_strange>5GeV'\n",
      "update_efficiencies: No particles match condition for 'long_strange>5GeV'\n",
      "update_efficiencies: No particles match condition for 'long_strange'\n",
      "update_efficiencies: No particles match condition for 'long_strange>5GeV'\n",
      "update_efficiencies: No particles match condition for 'long_strange'\n",
      "update_efficiencies: No particles match condition for 'long_strange>5GeV'\n",
      "update_efficiencies: No particles match condition for 'long_fromb'\n",
      "update_efficiencies: No particles match condition for 'long_fromb>5GeV'\n",
      "update_efficiencies: No particles match condition for 'long_strange>5GeV'\n",
      "23615 tracks including 1359 ghosts (5.8%). Event average ghost rate: 5.0%\n",
      "velo               : 19105 from 28026 (68.2%, 68.2%) 571 clones (2.99%), purity: (98.72%, 98.72%),  hitEff: (95.06%, 95.29%)\n",
      "long               : 6813 from 8076 (84.4%, 84.4%) 299 clones (4.39%), purity: (98.82%, 98.91%),  hitEff: (92.72%, 94.76%)\n",
      "long>5GeV          : 4750 from 5100 (93.1%, 93.1%) 192 clones (4.04%), purity: (98.78%, 98.79%),  hitEff: (92.12%, 95.21%)\n",
      "long_strange       : 316 from 385 (82.1%, 82.1%) 10 clones (3.16%), purity: (98.30%, 100.00%),  hitEff: (100.00%, 95.34%)\n",
      "long_strange>5GeV  : 167 from 174 (96.0%, 96.0%) 6 clones (3.59%), purity: (98.18%, 100.00%),  hitEff: (100.00%, 95.39%)\n",
      "long_fromb         : 329 from 444 (74.1%, 74.1%) 12 clones (3.65%), purity: (97.89%, 100.00%),  hitEff: (100.00%, 94.67%)\n",
      "long_fromb>5GeV    : 267 from 343 (77.8%, 77.8%) 10 clones (3.75%), purity: (97.73%, 100.00%),  hitEff: (100.00%, 94.76%)\n"
     ]
    }
   ],
   "source": [
    "vt.validate_print(json_events, Tracks_parallel) # for a list of events"
   ]
  },
  {
   "cell_type": "code",
   "execution_count": 9,
   "metadata": {},
   "outputs": [
    {
     "name": "stdout",
     "output_type": "stream",
     "text": [
      "update_efficiencies: No particles match condition for 'long_strange>5GeV'\n",
      "update_efficiencies: No particles match condition for 'long_strange'\n",
      "update_efficiencies: No particles match condition for 'long_strange>5GeV'\n",
      "update_efficiencies: No particles match condition for 'long_strange'\n",
      "update_efficiencies: No particles match condition for 'long_strange>5GeV'\n",
      "update_efficiencies: No particles match condition for 'long_strange>5GeV'\n",
      "update_efficiencies: No particles match condition for 'long_strange>5GeV'\n",
      "update_efficiencies: No particles match condition for 'long_strange>5GeV'\n",
      "update_efficiencies: No particles match condition for 'long_strange'\n",
      "update_efficiencies: No particles match condition for 'long_strange>5GeV'\n",
      "update_efficiencies: No particles match condition for 'long_strange>5GeV'\n",
      "update_efficiencies: No particles match condition for 'long_strange>5GeV'\n",
      "update_efficiencies: No particles match condition for 'long_strange>5GeV'\n",
      "update_efficiencies: No particles match condition for 'long_strange>5GeV'\n",
      "update_efficiencies: No particles match condition for 'long_fromb>5GeV'\n",
      "update_efficiencies: No particles match condition for 'long_fromb>5GeV'\n",
      "update_efficiencies: No particles match condition for 'long_strange>5GeV'\n",
      "update_efficiencies: No particles match condition for 'long_strange>5GeV'\n",
      "update_efficiencies: No particles match condition for 'long_strange'\n",
      "update_efficiencies: No particles match condition for 'long_strange>5GeV'\n",
      "update_efficiencies: No particles match condition for 'long_strange'\n",
      "update_efficiencies: No particles match condition for 'long_strange>5GeV'\n",
      "update_efficiencies: No particles match condition for 'long_strange>5GeV'\n",
      "update_efficiencies: No particles match condition for 'long_strange'\n",
      "update_efficiencies: No particles match condition for 'long_strange>5GeV'\n",
      "update_efficiencies: No particles match condition for 'long_strange>5GeV'\n",
      "update_efficiencies: No particles match condition for 'long_strange'\n",
      "update_efficiencies: No particles match condition for 'long_strange>5GeV'\n",
      "update_efficiencies: No particles match condition for 'long_strange'\n",
      "update_efficiencies: No particles match condition for 'long_strange>5GeV'\n",
      "update_efficiencies: No particles match condition for 'long_strange>5GeV'\n",
      "update_efficiencies: No particles match condition for 'long_strange'\n",
      "update_efficiencies: No particles match condition for 'long_strange>5GeV'\n",
      "update_efficiencies: No particles match condition for 'long_strange'\n",
      "update_efficiencies: No particles match condition for 'long_strange>5GeV'\n",
      "update_efficiencies: No particles match condition for 'long_strange>5GeV'\n",
      "update_efficiencies: No particles match condition for 'long_strange'\n",
      "update_efficiencies: No particles match condition for 'long_strange>5GeV'\n",
      "update_efficiencies: No particles match condition for 'long_strange'\n",
      "update_efficiencies: No particles match condition for 'long_strange>5GeV'\n",
      "update_efficiencies: No particles match condition for 'long_fromb'\n",
      "update_efficiencies: No particles match condition for 'long_fromb>5GeV'\n",
      "update_efficiencies: No particles match condition for 'long_strange>5GeV'\n"
     ]
    }
   ],
   "source": [
    "eval_params = vt.validate_to_json(json_events, Tracks_parallel) # write data to a json format "
   ]
  },
  {
   "cell_type": "code",
   "execution_count": 13,
   "metadata": {},
   "outputs": [
    {
     "name": "stdout",
     "output_type": "stream",
     "text": [
      "{'categories': [{'avg_hiteff': 100.0,\n",
      "                 'avg_purity': 100.0,\n",
      "                 'avg_recoeff': 82.07792207792208,\n",
      "                 'clone_percentage': 3.1645569620253164,\n",
      "                 'hit_eff_percentage': 95.33656782889913,\n",
      "                 'label': 'long_strange',\n",
      "                 'n_clones': 10,\n",
      "                 'n_particles': 385,\n",
      "                 'n_reco': 316,\n",
      "                 'purityT': 98.30374295098223,\n",
      "                 'recoeffT': 82.07792207792208},\n",
      "                {'avg_hiteff': 100.0,\n",
      "                 'avg_purity': 100.0,\n",
      "                 'avg_recoeff': 95.97701149425288,\n",
      "                 'clone_percentage': 3.592814371257485,\n",
      "                 'hit_eff_percentage': 95.38560026999332,\n",
      "                 'label': 'long_strange>5GeV',\n",
      "                 'n_clones': 6,\n",
      "                 'n_particles': 174,\n",
      "                 'n_reco': 167,\n",
      "                 'purityT': 98.17620882649784,\n",
      "                 'recoeffT': 95.97701149425288},\n",
      "                {'avg_hiteff': 95.05882235048902,\n",
      "                 'avg_purity': 98.71810240299826,\n",
      "                 'avg_recoeff': 68.16884321701278,\n",
      "                 'clone_percentage': 2.988746401465585,\n",
      "                 'hit_eff_percentage': 95.28689501267132,\n",
      "                 'label': 'velo',\n",
      "                 'n_clones': 571,\n",
      "                 'n_particles': 28026,\n",
      "                 'n_reco': 19105,\n",
      "                 'purityT': 98.72339849311436,\n",
      "                 'recoeffT': 68.16884321701278},\n",
      "                {'avg_hiteff': 92.71856495994426,\n",
      "                 'avg_purity': 98.91374749133371,\n",
      "                 'avg_recoeff': 84.36106983655274,\n",
      "                 'clone_percentage': 4.388668721561721,\n",
      "                 'hit_eff_percentage': 94.7590796551026,\n",
      "                 'label': 'long',\n",
      "                 'n_clones': 299,\n",
      "                 'n_particles': 8076,\n",
      "                 'n_reco': 6813,\n",
      "                 'purityT': 98.8215017210461,\n",
      "                 'recoeffT': 84.36106983655274},\n",
      "                {'avg_hiteff': 100.0,\n",
      "                 'avg_purity': 100.0,\n",
      "                 'avg_recoeff': 74.09909909909909,\n",
      "                 'clone_percentage': 3.6474164133738602,\n",
      "                 'hit_eff_percentage': 94.673593851362,\n",
      "                 'label': 'long_fromb',\n",
      "                 'n_clones': 12,\n",
      "                 'n_particles': 444,\n",
      "                 'n_reco': 329,\n",
      "                 'purityT': 97.88711573535618,\n",
      "                 'recoeffT': 74.09909909909909},\n",
      "                {'avg_hiteff': 100.0,\n",
      "                 'avg_purity': 100.0,\n",
      "                 'avg_recoeff': 77.84256559766763,\n",
      "                 'clone_percentage': 3.745318352059925,\n",
      "                 'hit_eff_percentage': 94.75710078970948,\n",
      "                 'label': 'long_fromb>5GeV',\n",
      "                 'n_clones': 10,\n",
      "                 'n_particles': 343,\n",
      "                 'n_reco': 267,\n",
      "                 'purityT': 97.73273206937466,\n",
      "                 'recoeffT': 77.84256559766764},\n",
      "                {'avg_hiteff': 92.11904761904765,\n",
      "                 'avg_purity': 98.79280045351476,\n",
      "                 'avg_recoeff': 93.13725490196079,\n",
      "                 'clone_percentage': 4.042105263157895,\n",
      "                 'hit_eff_percentage': 95.20863605734822,\n",
      "                 'label': 'long>5GeV',\n",
      "                 'n_clones': 192,\n",
      "                 'n_particles': 5100,\n",
      "                 'n_reco': 4750,\n",
      "                 'purityT': 98.7827457346377,\n",
      "                 'recoeffT': 93.13725490196079}],\n",
      " 'event_avg_ghost_rate': 5.031030794722927,\n",
      " 'overall_ghost_rate': 5.7548168536946855,\n",
      " 'total_ghosts': 1359,\n",
      " 'total_tracks': 23615}\n"
     ]
    }
   ],
   "source": [
    "from pprint import pprint\n",
    "pprint(eval_params)"
   ]
  }
 ],
 "metadata": {
  "kernelspec": {
   "display_name": "venv",
   "language": "python",
   "name": "python3"
  },
  "language_info": {
   "codemirror_mode": {
    "name": "ipython",
    "version": 3
   },
   "file_extension": ".py",
   "mimetype": "text/x-python",
   "name": "python",
   "nbconvert_exporter": "python",
   "pygments_lexer": "ipython3",
   "version": "3.13.1"
  }
 },
 "nbformat": 4,
 "nbformat_minor": 2
}
