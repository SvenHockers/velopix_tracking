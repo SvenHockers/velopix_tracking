{
 "cells": [
  {
   "cell_type": "code",
   "execution_count": 8,
   "metadata": {},
   "outputs": [],
   "source": [
    "from velopix_tracking import Event\n",
    "from velopix_tracking import TrackFollowing\n",
    "\n",
    "import json\n",
    "import os"
   ]
  },
  {
   "cell_type": "code",
   "execution_count": 10,
   "metadata": {},
   "outputs": [],
   "source": [
    "file_path = os.path.join(\"events\", \"velo_event_0.json\")\n",
    "f = open(file_path)\n",
    "json_data = json.loads(f.read())\n",
    "f.close()"
   ]
  },
  {
   "cell_type": "code",
   "execution_count": 14,
   "metadata": {},
   "outputs": [
    {
     "name": "stdout",
     "output_type": "stream",
     "text": [
      "52\n",
      "996\n"
     ]
    }
   ],
   "source": [
    "event = Event(json_data)\n",
    "print(len(event.modules))\n",
    "print(len(event.hits))"
   ]
  },
  {
   "cell_type": "code",
   "execution_count": 17,
   "metadata": {},
   "outputs": [
    {
     "name": "stdout",
     "output_type": "stream",
     "text": [
      "#0 module 0 {9.18, -30.509, -288.08}\n"
     ]
    }
   ],
   "source": [
    "print(event.hits[0])"
   ]
  },
  {
   "cell_type": "code",
   "execution_count": 18,
   "metadata": {},
   "outputs": [
    {
     "name": "stdout",
     "output_type": "stream",
     "text": [
      "module 0:\n",
      " At z: [-286.918, -288.08]\n",
      " Number of hits: 20\n",
      " Hits: [Hit { id: 0, x: 9.18, y: -30.509, z: -288.08, t: 0.0, module_number: 0, with_t: false }, Hit { id: 1, x: -9.137, y: -12.308, z: -288.08, t: 0.0, module_number: 0, with_t: false }, Hit { id: 2, x: -8.806, y: -8.711, z: -288.08, t: 0.0, module_number: 0, with_t: false }, Hit { id: 3, x: -9.623, y: -5.171, z: -288.08, t: 0.0, module_number: 0, with_t: false }, Hit { id: 4, x: -21.73, y: -20.093, z: -286.918, t: 0.0, module_number: 0, with_t: false }, Hit { id: 5, x: -16.422, y: -19.918, z: -286.918, t: 0.0, module_number: 0, with_t: false }, Hit { id: 6, x: -12.455, y: -24.43, z: -286.918, t: 0.0, module_number: 0, with_t: false }, Hit { id: 7, x: -11.832, y: -24.818, z: -286.918, t: 0.0, module_number: 0, with_t: false }, Hit { id: 8, x: -7.827, y: -28.124, z: -286.918, t: 0.0, module_number: 0, with_t: false }, Hit { id: 9, x: 8.759, y: -44.478, z: -286.918, t: 0.0, module_number: 0, with_t: false }, Hit { id: 10, x: -5.415, y: -22.407, z: -286.918, t: 0.0, module_number: 0, with_t: false }, Hit { id: 11, x: -4.365, y: -34.152, z: -286.918, t: 0.0, module_number: 0, with_t: false }, Hit { id: 12, x: -7.574, y: -37.711, z: -286.918, t: 0.0, module_number: 0, with_t: false }, Hit { id: 13, x: -7.418, y: -37.75, z: -286.918, t: 0.0, module_number: 0, with_t: false }, Hit { id: 14, x: -5.424, y: 6.221, z: -286.918, t: 0.0, module_number: 0, with_t: false }, Hit { id: 15, x: -11.005, y: 11.49, z: -286.918, t: 0.0, module_number: 0, with_t: false }, Hit { id: 16, x: -28.292, y: -8.771, z: -286.918, t: 0.0, module_number: 0, with_t: false }, Hit { id: 17, x: -39.789, y: 6.663, z: -288.08, t: 0.0, module_number: 0, with_t: false }, Hit { id: 18, x: -33.795, y: 2.468, z: -288.08, t: 0.0, module_number: 0, with_t: false }, Hit { id: 19, x: -15.458, y: 15.438, z: -288.08, t: 0.0, module_number: 0, with_t: false }]\n"
     ]
    }
   ],
   "source": [
    "print(event.modules[0])"
   ]
  },
  {
   "cell_type": "markdown",
   "metadata": {},
   "source": [
    "## TrackFollowing HyperParam\n",
    "```rust \n",
    "pub struct TrackFollowing {\n",
    "    max_slopes: (f64, f64),\n",
    "    max_tolerance: (f64, f64),\n",
    "    max_scatter: f64,\n",
    "}\n",
    "```"
   ]
  },
  {
   "cell_type": "code",
   "execution_count": null,
   "metadata": {},
   "outputs": [
    {
     "name": "stdout",
     "output_type": "stream",
     "text": [
      "Instantiating track_following solver with parameters\n",
      " max slopes: (0.8, 0.1)\n",
      " max tolerance: (0.3, 0.2)\n",
      " max scatter: 0.35\n",
      "\n"
     ]
    },
    {
     "name": "stderr",
     "output_type": "stream",
     "text": [
      "thread '<unnamed>' panicked at src/event_model/module.rs:30:28:\n",
      "slice index starts at 985 but ends at 11\n"
     ]
    },
    {
     "ename": "PanicException",
     "evalue": "slice index starts at 985 but ends at 11",
     "output_type": "error",
     "traceback": [
      "\u001b[0;31m---------------------------------------------------------------------------\u001b[0m",
      "\u001b[0;31mPanicException\u001b[0m                            Traceback (most recent call last)",
      "Cell \u001b[0;32mIn[22], line 2\u001b[0m\n\u001b[1;32m      1\u001b[0m solver \u001b[38;5;241m=\u001b[39m TrackFollowing((\u001b[38;5;241m0.8\u001b[39m, \u001b[38;5;241m0.1\u001b[39m), (\u001b[38;5;241m0.3\u001b[39m, \u001b[38;5;241m0.2\u001b[39m), \u001b[38;5;241m0.35\u001b[39m)\n\u001b[0;32m----> 2\u001b[0m tracks \u001b[38;5;241m=\u001b[39m \u001b[43msolver\u001b[49m\u001b[38;5;241;43m.\u001b[39;49m\u001b[43msolve\u001b[49m\u001b[43m(\u001b[49m\u001b[43mevent\u001b[49m\u001b[43m)\u001b[49m\n",
      "\u001b[0;31mPanicException\u001b[0m: slice index starts at 985 but ends at 11"
     ]
    }
   ],
   "source": [
    "max_slopes = (0.8, 0.1)\n",
    "max_tolerance = (0.3, 0.2)\n",
    "scatter = 0.35\n",
    "\n",
    "solver = TrackFollowing(max_slopes, max_tolerance, scatter)\n",
    "tracks = solver.solve(event)"
   ]
  }
 ],
 "metadata": {
  "kernelspec": {
   "display_name": "venv",
   "language": "python",
   "name": "python3"
  },
  "language_info": {
   "codemirror_mode": {
    "name": "ipython",
    "version": 3
   },
   "file_extension": ".py",
   "mimetype": "text/x-python",
   "name": "python",
   "nbconvert_exporter": "python",
   "pygments_lexer": "ipython3",
   "version": "3.13.1"
  }
 },
 "nbformat": 4,
 "nbformat_minor": 2
}
