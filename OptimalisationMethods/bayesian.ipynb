{
 "cells": [
  {
   "cell_type": "markdown",
   "metadata": {},
   "source": [
    "# Example Optimiser"
   ]
  },
  {
   "cell_type": "code",
   "execution_count": 34,
   "metadata": {},
   "outputs": [],
   "source": [
    "import os \n",
    "import sys\n",
    "import json\n",
    "sys.path.append(os.path.abspath(\"..\"))\n",
    "\n",
    "from velopix_wrappers.parameter_optimisers import optimiserBase\n",
    "from velopix_wrappers.velopix_pipeline import TrackFollowingPipeline, GraphDFSPipeline, SearchByTripletTriePipeline\n",
    "from typing import Any, Dict\n",
    "import random\n",
    "import numpy as np\n",
    "from sklearn.gaussian_process import GaussianProcessRegressor\n",
    "from sklearn.gaussian_process.kernels import RBF, ConstantKernel as C\n"
   ]
  },
  {
   "cell_type": "markdown",
   "metadata": {},
   "source": [
    "## Implement the optimiser child class"
   ]
  },
  {
   "cell_type": "code",
   "execution_count": 35,
   "metadata": {},
   "outputs": [],
   "source": [
    "from typing import Any, Dict\n",
    "import random\n",
    "import numpy as np\n",
    "from sklearn.gaussian_process import GaussianProcessRegressor\n",
    "from sklearn.gaussian_process.kernels import RBF, ConstantKernel as C\n",
    "\n",
    "class ExampleOptimiser(optimiserBase):\n",
    "    def __init__(self, learning_rate, max_iterations=100, target_score=0.3):\n",
    "        super().__init__()\n",
    "        self.learning_rate = learning_rate\n",
    "        self.max_iterations = max_iterations\n",
    "        self.target_score = target_score\n",
    "        self.best_score = float(\"inf\")\n",
    "        self.current_iteration = 0\n",
    "\n",
    "        # To store previous evaluations\n",
    "        self.X = []  # Parameter sets (input)\n",
    "        self.Y = []  # Objective function results (output)\n",
    "\n",
    "        # Gaussian Process initialization\n",
    "        kernel = C(1.0, (1e-4, 1e1)) * RBF(1.0, (1e-4, 1e1))\n",
    "        self.gpr = GaussianProcessRegressor(kernel=kernel, n_restarts_optimizer=10)\n",
    "\n",
    "    def init(self) -> Dict[str, Any]:\n",
    "        \"\"\"\n",
    "        Initializes the optimization process by setting an initial parameter map.\n",
    "        \"\"\"\n",
    "        pMap = self._algorithm.get_config()  # Get a copy of the parameter schema\n",
    "\n",
    "        initial_param_set = {}\n",
    "\n",
    "        for key, (expected_type, _) in pMap.items():\n",
    "            if expected_type == float:\n",
    "                initial_param_set[key] = random.uniform(0, 1)  # Random float between 0 and 1\n",
    "            elif expected_type == int:\n",
    "                initial_param_set[key] = random.randint(0, 10)  # Random integer between 0 and 10\n",
    "            elif expected_type == bool:\n",
    "                initial_param_set[key] = random.choice([True, False])  # Random boolean\n",
    "            elif expected_type == list:\n",
    "                initial_param_set[key] = []  # Assign an empty list (or populate it if needed)\n",
    "\n",
    "        # Evaluate the initial point\n",
    "        self.X.append(list(initial_param_set.values()))\n",
    "        self.Y.append(self.objective_func(initial_param_set))\n",
    "\n",
    "        print(f\"Initial parameter set: {initial_param_set}\")\n",
    "\n",
    "        return initial_param_set\n",
    "\n",
    "    def next(self) -> Dict[str, Any]:\n",
    "        \"\"\"\n",
    "        Uses Bayesian Optimization to generate the next parameter map by predicting the next best set.\n",
    "        \"\"\"\n",
    "        if len(self.X) > 1:\n",
    "            # Fit Gaussian Process model\n",
    "            self.gpr.fit(self.X, self.Y)\n",
    "\n",
    "        # Generate the next set of parameters using Bayesian Optimization\n",
    "        next_param_set = self._predict_next()\n",
    "\n",
    "        self.X.append(list(next_param_set.values()))  # Add the new point to X\n",
    "        self.Y.append(self.objective_func(next_param_set))  # Evaluate the next point and add to Y\n",
    "\n",
    "        return next_param_set\n",
    "\n",
    "    def _predict_next(self) -> Dict[str, Any]:\n",
    "        \"\"\"\n",
    "        Predicts the next parameter set using the Gaussian Process model.\n",
    "        \"\"\"\n",
    "        # For simplicity, we'll randomly sample a set of points to evaluate and pick the one with the best acquisition value.\n",
    "        pMap = self._algorithm.get_config()\n",
    "        param_space = []\n",
    "\n",
    "        for key, (expected_type, _) in pMap.items():\n",
    "            if expected_type == float:\n",
    "                param_space.append(np.linspace(0, 1, 10))  # 10 candidates for floats\n",
    "            elif expected_type == int:\n",
    "                param_space.append(np.arange(0, 11))  # 10 candidates for integers\n",
    "            elif expected_type == bool:\n",
    "                param_space.append([True, False])  # 2 candidates for boolean\n",
    "            elif expected_type == list:\n",
    "                param_space.append([[]])  # Simplified for now\n",
    "\n",
    "        # Now you can use these candidates to query the acquisition function (simplified)\n",
    "        best_candidate = None\n",
    "        best_acquisition_value = float('inf')\n",
    "        \n",
    "        for candidate in self._generate_candidates(param_space):\n",
    "            X_candidate = np.array(candidate).reshape(1, -1)\n",
    "            acquisition_value = self._acquisition_function(X_candidate)\n",
    "            if acquisition_value < best_acquisition_value:\n",
    "                best_candidate = candidate\n",
    "                best_acquisition_value = acquisition_value\n",
    "\n",
    "        # Convert the best candidate back into the parameter set format\n",
    "        pMap = self._algorithm.get_config()\n",
    "        next_param_set = {key: value for key, value in zip(pMap.keys(), best_candidate)}\n",
    "\n",
    "        print(f\"Next parameter set: {next_param_set}\")\n",
    "\n",
    "        return next_param_set\n",
    "\n",
    "    def _generate_candidates(self, param_space):\n",
    "        \"\"\"\n",
    "        Generates candidates from the parameter space.\n",
    "        \"\"\"\n",
    "        # In this case, we're just randomly sampling from the parameter space for simplicity\n",
    "        candidates = list(np.array(np.meshgrid(*param_space)).T.reshape(-1, len(param_space)))\n",
    "        return candidates\n",
    "\n",
    "    def _acquisition_function(self, X_candidate):\n",
    "        \"\"\"\n",
    "        Acquisition function to guide the optimization.\n",
    "        For simplicity, using a simple negative expected improvement here.\n",
    "        \"\"\"\n",
    "        mean, std = self.gpr.predict(X_candidate, return_std=True)\n",
    "        return -mean  # Expected improvement simplification: pick the most uncertain area\n",
    "\n",
    "    def objective_func(self, param_set: Dict[str, Any]) -> float:\n",
    "        \"\"\"\n",
    "        Converts the results of an experiment into a numeric score.\n",
    "        In this example, we simulate a loss function that we aim to minimize.\n",
    "        \"\"\"\n",
    "        # Fake evaluation function\n",
    "        # Use the actual parameters and compute the score from the experiment\n",
    "        return abs(self.learning_rate - 0.05) + random.uniform(0, 0.01)\n",
    "\n",
    "    def is_finished(self) -> bool:\n",
    "        \"\"\"\n",
    "        Determines if the optimization process is finished.\n",
    "        In this case, it stops after `max_iterations` iterations or the target score is reached.\n",
    "        \"\"\"\n",
    "        return self.best_score < self.target_score or self.current_iteration >= self.max_iterations\n"
   ]
  },
  {
   "cell_type": "markdown",
   "metadata": {},
   "source": [
    "**Load event data**"
   ]
  },
  {
   "cell_type": "code",
   "execution_count": 36,
   "metadata": {},
   "outputs": [
    {
     "name": "stdout",
     "output_type": "stream",
     "text": [
      "Loading file: velo_event_0.json\n",
      "Loading file: velo_event_1.json\n",
      "Loading file: velo_event_2.json\n",
      "Loading file: velo_event_3.json\n",
      "Loading file: velo_event_4.json\n",
      "Loading file: velo_event_5.json\n",
      "Loading file: velo_event_6.json\n",
      "Loading file: velo_event_7.json\n",
      "Loading file: velo_event_8.json\n",
      "Loading file: velo_event_9.json\n",
      "Loading file: velo_event_10.json\n",
      "Loading file: velo_event_11.json\n",
      "Loading file: velo_event_12.json\n",
      "Loading file: velo_event_13.json\n",
      "Loading file: velo_event_14.json\n",
      "Loading file: velo_event_15.json\n",
      "Loading file: velo_event_16.json\n",
      "Loading file: velo_event_17.json\n",
      "Loading file: velo_event_18.json\n",
      "Loading file: velo_event_19.json\n",
      "Loading file: velo_event_20.json\n",
      "Loading file: velo_event_21.json\n",
      "Loading file: velo_event_22.json\n",
      "Loading file: velo_event_23.json\n",
      "Loading file: velo_event_24.json\n",
      "Loading file: velo_event_25.json\n",
      "Loading file: velo_event_26.json\n",
      "Loading file: velo_event_27.json\n",
      "Loading file: velo_event_28.json\n",
      "Loading file: velo_event_29.json\n",
      "Loading file: velo_event_30.json\n",
      "Loading file: velo_event_31.json\n",
      "Loading file: velo_event_32.json\n",
      "Loading file: velo_event_33.json\n",
      "Loading file: velo_event_34.json\n",
      "Loading file: velo_event_35.json\n",
      "Loading file: velo_event_36.json\n",
      "Loading file: velo_event_37.json\n",
      "Loading file: velo_event_38.json\n",
      "Loading file: velo_event_39.json\n",
      "Loading file: velo_event_40.json\n",
      "Loading file: velo_event_41.json\n",
      "Loading file: velo_event_42.json\n",
      "Loading file: velo_event_43.json\n",
      "Loading file: velo_event_44.json\n",
      "Loading file: velo_event_45.json\n",
      "Loading file: velo_event_46.json\n",
      "Loading file: velo_event_47.json\n",
      "Loading file: velo_event_48.json\n",
      "Loading file: velo_event_49.json\n",
      "Loading file: velo_event_50.json\n",
      "Skipping problematic file: velo_event_51.json\n",
      "Loading file: velo_event_52.json\n",
      "Loading file: velo_event_53.json\n",
      "Loading file: velo_event_54.json\n",
      "Loading file: velo_event_55.json\n",
      "Loading file: velo_event_56.json\n",
      "Loading file: velo_event_57.json\n",
      "Loading file: velo_event_58.json\n",
      "Loading file: velo_event_59.json\n",
      "Loading file: velo_event_60.json\n",
      "Loading file: velo_event_61.json\n",
      "Loading file: velo_event_62.json\n",
      "Loading file: velo_event_63.json\n",
      "Loading file: velo_event_64.json\n",
      "Loading file: velo_event_65.json\n",
      "Loading file: velo_event_66.json\n",
      "Loading file: velo_event_67.json\n",
      "Loading file: velo_event_68.json\n",
      "Loading file: velo_event_69.json\n",
      "Loading file: velo_event_70.json\n",
      "Loading file: velo_event_71.json\n",
      "Loading file: velo_event_72.json\n",
      "Loading file: velo_event_73.json\n",
      "Loading file: velo_event_74.json\n",
      "Loading file: velo_event_75.json\n",
      "Loading file: velo_event_76.json\n",
      "Loading file: velo_event_77.json\n",
      "Loading file: velo_event_78.json\n",
      "Loading file: velo_event_79.json\n",
      "Loading file: velo_event_80.json\n",
      "Loading file: velo_event_81.json\n",
      "Loading file: velo_event_82.json\n",
      "Loading file: velo_event_83.json\n",
      "Loading file: velo_event_84.json\n",
      "Loading file: velo_event_85.json\n",
      "Loading file: velo_event_86.json\n",
      "Loading file: velo_event_87.json\n",
      "Loading file: velo_event_88.json\n",
      "Loading file: velo_event_89.json\n",
      "Loading file: velo_event_90.json\n",
      "Loading file: velo_event_91.json\n",
      "Loading file: velo_event_92.json\n",
      "Loading file: velo_event_93.json\n",
      "Loading file: velo_event_94.json\n",
      "Loading file: velo_event_95.json\n",
      "Loading file: velo_event_96.json\n",
      "Loading file: velo_event_97.json\n",
      "Loading file: velo_event_98.json\n",
      "Loading file: velo_event_99.json\n"
     ]
    }
   ],
   "source": [
    "events = []\n",
    "n_files = 100\n",
    "\n",
    "for i in range(0, n_files):\n",
    "    if i == 51:\n",
    "        \"\"\"\n",
    "        There's an issue with event 51 -> module_prefix_sum contains value 79 twice resulting in and indexing error when loading the event\n",
    "        \"\"\"\n",
    "        print(f\"Skipping problematic file: velo_event_{i}.json\")\n",
    "    else:    \n",
    "        print(f\"Loading file: velo_event_{i}.json\")\n",
    "        event_file = open(os.path.join(\"../DB/raw\", f\"velo_event_{i}.json\"))\n",
    "        json_data = json.loads(event_file.read())\n",
    "        events.append(json_data)\n",
    "        event_file.close()"
   ]
  },
  {
   "cell_type": "code",
   "execution_count": 37,
   "metadata": {},
   "outputs": [],
   "source": [
    "pipeline = TrackFollowingPipeline(events=events, intra_node=False)"
   ]
  },
  {
   "cell_type": "code",
   "execution_count": 38,
   "metadata": {},
   "outputs": [
    {
     "name": "stdout",
     "output_type": "stream",
     "text": [
      "Initial parameter set: {'x_slope': 0.2060155271473174, 'y_slope': 0.7105788288748318, 'x_tol': 0.40135974686221565, 'y_tol': 0.6578517963786719, 'scatter': 0.5910565458299496}\n"
     ]
    },
    {
     "name": "stderr",
     "output_type": "stream",
     "text": [
      "Optimising:  10%|█         | 1/10 [00:01<00:14,  1.63s/it]"
     ]
    },
    {
     "name": "stdout",
     "output_type": "stream",
     "text": [
      "Next parameter set: {'x_slope': np.float64(0.0), 'y_slope': np.float64(0.0), 'x_tol': np.float64(0.0), 'y_tol': np.float64(0.0), 'scatter': np.float64(0.0)}\n"
     ]
    },
    {
     "name": "stderr",
     "output_type": "stream",
     "text": [
      "Optimising:  20%|██        | 2/10 [00:05<00:25,  3.21s/it]/home/neto/Desktop/UM/project 2/velopix_tracking/venv/lib/python3.12/site-packages/sklearn/gaussian_process/kernels.py:442: ConvergenceWarning: The optimal value found for dimension 0 of parameter k1__constant_value is close to the specified lower bound 0.0001. Decreasing the bound and calling fit again may find a better value.\n",
      "  warnings.warn(\n"
     ]
    },
    {
     "name": "stdout",
     "output_type": "stream",
     "text": [
      "Next parameter set: {'x_slope': np.float64(0.0), 'y_slope': np.float64(0.0), 'x_tol': np.float64(0.0), 'y_tol': np.float64(0.0), 'scatter': np.float64(0.0)}\n"
     ]
    },
    {
     "name": "stderr",
     "output_type": "stream",
     "text": [
      "Optimising:  30%|███       | 3/10 [00:15<00:42,  6.10s/it]/home/neto/Desktop/UM/project 2/velopix_tracking/venv/lib/python3.12/site-packages/sklearn/gaussian_process/kernels.py:442: ConvergenceWarning: The optimal value found for dimension 0 of parameter k1__constant_value is close to the specified lower bound 0.0001. Decreasing the bound and calling fit again may find a better value.\n",
      "  warnings.warn(\n",
      "Optimising:  30%|███       | 3/10 [00:18<00:43,  6.27s/it]\n"
     ]
    },
    {
     "ename": "KeyboardInterrupt",
     "evalue": "",
     "output_type": "error",
     "traceback": [
      "\u001b[31m---------------------------------------------------------------------------\u001b[39m",
      "\u001b[31mKeyboardInterrupt\u001b[39m                         Traceback (most recent call last)",
      "\u001b[36mCell\u001b[39m\u001b[36m \u001b[39m\u001b[32mIn[38]\u001b[39m\u001b[32m, line 2\u001b[39m\n\u001b[32m      1\u001b[39m Optimiser = ExampleOptimiser(learning_rate=\u001b[32m0.05\u001b[39m)\n\u001b[32m----> \u001b[39m\u001b[32m2\u001b[39m optimal_parameters = \u001b[43mpipeline\u001b[49m\u001b[43m.\u001b[49m\u001b[43moptimise_parameters\u001b[49m\u001b[43m(\u001b[49m\u001b[43mOptimiser\u001b[49m\u001b[43m,\u001b[49m\u001b[43m \u001b[49m\u001b[43mmax_runs\u001b[49m\u001b[43m=\u001b[49m\u001b[32;43m10\u001b[39;49m\u001b[43m)\u001b[49m \u001b[38;5;66;03m# DO NOT remove max_runs, chances are that this will run forever\u001b[39;00m\n",
      "\u001b[36mFile \u001b[39m\u001b[32m~/Desktop/UM/project 2/velopix_tracking/velopix_wrappers/velopix_pipeline.py:67\u001b[39m, in \u001b[36mPipelineBase.optimise_parameters\u001b[39m\u001b[34m(self, Optimiser, max_runs)\u001b[39m\n\u001b[32m     65\u001b[39m             \u001b[38;5;28;01mbreak\u001b[39;00m\n\u001b[32m     66\u001b[39m         \u001b[38;5;28;01mif\u001b[39;00m \u001b[38;5;129;01mnot\u001b[39;00m finished:\n\u001b[32m---> \u001b[39m\u001b[32m67\u001b[39m             \u001b[38;5;28mself\u001b[39m.set_pMap([\u001b[43mOptimiser\u001b[49m\u001b[43m.\u001b[49m\u001b[43mnext_pMap\u001b[49m\u001b[43m(\u001b[49m\u001b[43m)\u001b[49m])\n\u001b[32m     68\u001b[39m \u001b[38;5;28;01mif\u001b[39;00m finished:\n\u001b[32m     69\u001b[39m     \u001b[38;5;28mprint\u001b[39m(\u001b[33m\"\u001b[39m\u001b[33mFinsihed condition met, exiting...\u001b[39m\u001b[33m\"\u001b[39m)\n",
      "\u001b[36mFile \u001b[39m\u001b[32m~/Desktop/UM/project 2/velopix_tracking/velopix_wrappers/parameter_optimisers.py:37\u001b[39m, in \u001b[36moptimiserBase.next_pMap\u001b[39m\u001b[34m(self)\u001b[39m\n\u001b[32m     32\u001b[39m \u001b[38;5;28;01mdef\u001b[39;00m\u001b[38;5;250m \u001b[39m\u001b[34mnext_pMap\u001b[39m(\u001b[38;5;28mself\u001b[39m) -> Dict[\u001b[38;5;28mstr\u001b[39m, Any]:\n\u001b[32m     33\u001b[39m \u001b[38;5;250m    \u001b[39m\u001b[33;03m\"\"\"\u001b[39;00m\n\u001b[32m     34\u001b[39m \u001b[33;03m    Return the next parameter map to the pipeline, this invokes next() method where the actual\u001b[39;00m\n\u001b[32m     35\u001b[39m \u001b[33;03m    logic is. And does an additional schema validation on it.\u001b[39;00m\n\u001b[32m     36\u001b[39m \u001b[33;03m    \"\"\"\u001b[39;00m\n\u001b[32m---> \u001b[39m\u001b[32m37\u001b[39m     pMap = \u001b[38;5;28;43mself\u001b[39;49m\u001b[43m.\u001b[49m\u001b[43mnext\u001b[49m\u001b[43m(\u001b[49m\u001b[43m)\u001b[49m\n\u001b[32m     38\u001b[39m     \u001b[38;5;28;01mif\u001b[39;00m \u001b[38;5;28mself\u001b[39m._algorithm \u001b[38;5;129;01mis\u001b[39;00m \u001b[38;5;28;01mNone\u001b[39;00m:\n\u001b[32m     39\u001b[39m         \u001b[38;5;28;01mraise\u001b[39;00m \u001b[38;5;167;01mValueError\u001b[39;00m(\u001b[33m\"\u001b[39m\u001b[33mAlgorithm not set. Please call start() to initialise the algorithm.\u001b[39m\u001b[33m\"\u001b[39m)\n",
      "\u001b[36mCell\u001b[39m\u001b[36m \u001b[39m\u001b[32mIn[35]\u001b[39m\u001b[32m, line 59\u001b[39m, in \u001b[36mExampleOptimiser.next\u001b[39m\u001b[34m(self)\u001b[39m\n\u001b[32m     56\u001b[39m     \u001b[38;5;28mself\u001b[39m.gpr.fit(\u001b[38;5;28mself\u001b[39m.X, \u001b[38;5;28mself\u001b[39m.Y)\n\u001b[32m     58\u001b[39m \u001b[38;5;66;03m# Generate the next set of parameters using Bayesian Optimization\u001b[39;00m\n\u001b[32m---> \u001b[39m\u001b[32m59\u001b[39m next_param_set = \u001b[38;5;28;43mself\u001b[39;49m\u001b[43m.\u001b[49m\u001b[43m_predict_next\u001b[49m\u001b[43m(\u001b[49m\u001b[43m)\u001b[49m\n\u001b[32m     61\u001b[39m \u001b[38;5;28mself\u001b[39m.X.append(\u001b[38;5;28mlist\u001b[39m(next_param_set.values()))  \u001b[38;5;66;03m# Add the new point to X\u001b[39;00m\n\u001b[32m     62\u001b[39m \u001b[38;5;28mself\u001b[39m.Y.append(\u001b[38;5;28mself\u001b[39m.objective_func(next_param_set))  \u001b[38;5;66;03m# Evaluate the next point and add to Y\u001b[39;00m\n",
      "\u001b[36mCell\u001b[39m\u001b[36m \u001b[39m\u001b[32mIn[35]\u001b[39m\u001b[32m, line 90\u001b[39m, in \u001b[36mExampleOptimiser._predict_next\u001b[39m\u001b[34m(self)\u001b[39m\n\u001b[32m     88\u001b[39m \u001b[38;5;28;01mfor\u001b[39;00m candidate \u001b[38;5;129;01min\u001b[39;00m \u001b[38;5;28mself\u001b[39m._generate_candidates(param_space):\n\u001b[32m     89\u001b[39m     X_candidate = np.array(candidate).reshape(\u001b[32m1\u001b[39m, -\u001b[32m1\u001b[39m)\n\u001b[32m---> \u001b[39m\u001b[32m90\u001b[39m     acquisition_value = \u001b[38;5;28;43mself\u001b[39;49m\u001b[43m.\u001b[49m\u001b[43m_acquisition_function\u001b[49m\u001b[43m(\u001b[49m\u001b[43mX_candidate\u001b[49m\u001b[43m)\u001b[49m\n\u001b[32m     91\u001b[39m     \u001b[38;5;28;01mif\u001b[39;00m acquisition_value < best_acquisition_value:\n\u001b[32m     92\u001b[39m         best_candidate = candidate\n",
      "\u001b[36mCell\u001b[39m\u001b[36m \u001b[39m\u001b[32mIn[35]\u001b[39m\u001b[32m, line 116\u001b[39m, in \u001b[36mExampleOptimiser._acquisition_function\u001b[39m\u001b[34m(self, X_candidate)\u001b[39m\n\u001b[32m    111\u001b[39m \u001b[38;5;28;01mdef\u001b[39;00m\u001b[38;5;250m \u001b[39m\u001b[34m_acquisition_function\u001b[39m(\u001b[38;5;28mself\u001b[39m, X_candidate):\n\u001b[32m    112\u001b[39m \u001b[38;5;250m    \u001b[39m\u001b[33;03m\"\"\"\u001b[39;00m\n\u001b[32m    113\u001b[39m \u001b[33;03m    Acquisition function to guide the optimization.\u001b[39;00m\n\u001b[32m    114\u001b[39m \u001b[33;03m    For simplicity, using a simple negative expected improvement here.\u001b[39;00m\n\u001b[32m    115\u001b[39m \u001b[33;03m    \"\"\"\u001b[39;00m\n\u001b[32m--> \u001b[39m\u001b[32m116\u001b[39m     mean, std = \u001b[38;5;28;43mself\u001b[39;49m\u001b[43m.\u001b[49m\u001b[43mgpr\u001b[49m\u001b[43m.\u001b[49m\u001b[43mpredict\u001b[49m\u001b[43m(\u001b[49m\u001b[43mX_candidate\u001b[49m\u001b[43m,\u001b[49m\u001b[43m \u001b[49m\u001b[43mreturn_std\u001b[49m\u001b[43m=\u001b[49m\u001b[38;5;28;43;01mTrue\u001b[39;49;00m\u001b[43m)\u001b[49m\n\u001b[32m    117\u001b[39m     \u001b[38;5;28;01mreturn\u001b[39;00m -mean\n",
      "\u001b[36mFile \u001b[39m\u001b[32m~/Desktop/UM/project 2/velopix_tracking/venv/lib/python3.12/site-packages/sklearn/gaussian_process/_gpr.py:409\u001b[39m, in \u001b[36mGaussianProcessRegressor.predict\u001b[39m\u001b[34m(self, X, return_std, return_cov)\u001b[39m\n\u001b[32m    406\u001b[39m \u001b[38;5;28;01melse\u001b[39;00m:\n\u001b[32m    407\u001b[39m     dtype, ensure_2d = \u001b[38;5;28;01mNone\u001b[39;00m, \u001b[38;5;28;01mFalse\u001b[39;00m\n\u001b[32m--> \u001b[39m\u001b[32m409\u001b[39m X = \u001b[43mvalidate_data\u001b[49m\u001b[43m(\u001b[49m\u001b[38;5;28;43mself\u001b[39;49m\u001b[43m,\u001b[49m\u001b[43m \u001b[49m\u001b[43mX\u001b[49m\u001b[43m,\u001b[49m\u001b[43m \u001b[49m\u001b[43mensure_2d\u001b[49m\u001b[43m=\u001b[49m\u001b[43mensure_2d\u001b[49m\u001b[43m,\u001b[49m\u001b[43m \u001b[49m\u001b[43mdtype\u001b[49m\u001b[43m=\u001b[49m\u001b[43mdtype\u001b[49m\u001b[43m,\u001b[49m\u001b[43m \u001b[49m\u001b[43mreset\u001b[49m\u001b[43m=\u001b[49m\u001b[38;5;28;43;01mFalse\u001b[39;49;00m\u001b[43m)\u001b[49m\n\u001b[32m    411\u001b[39m \u001b[38;5;28;01mif\u001b[39;00m \u001b[38;5;129;01mnot\u001b[39;00m \u001b[38;5;28mhasattr\u001b[39m(\u001b[38;5;28mself\u001b[39m, \u001b[33m\"\u001b[39m\u001b[33mX_train_\u001b[39m\u001b[33m\"\u001b[39m):  \u001b[38;5;66;03m# Unfitted;predict based on GP prior\u001b[39;00m\n\u001b[32m    412\u001b[39m     \u001b[38;5;28;01mif\u001b[39;00m \u001b[38;5;28mself\u001b[39m.kernel \u001b[38;5;129;01mis\u001b[39;00m \u001b[38;5;28;01mNone\u001b[39;00m:\n",
      "\u001b[36mFile \u001b[39m\u001b[32m~/Desktop/UM/project 2/velopix_tracking/venv/lib/python3.12/site-packages/sklearn/utils/validation.py:2944\u001b[39m, in \u001b[36mvalidate_data\u001b[39m\u001b[34m(_estimator, X, y, reset, validate_separately, skip_check_array, **check_params)\u001b[39m\n\u001b[32m   2942\u001b[39m         out = X, y\n\u001b[32m   2943\u001b[39m \u001b[38;5;28;01melif\u001b[39;00m \u001b[38;5;129;01mnot\u001b[39;00m no_val_X \u001b[38;5;129;01mand\u001b[39;00m no_val_y:\n\u001b[32m-> \u001b[39m\u001b[32m2944\u001b[39m     out = \u001b[43mcheck_array\u001b[49m\u001b[43m(\u001b[49m\u001b[43mX\u001b[49m\u001b[43m,\u001b[49m\u001b[43m \u001b[49m\u001b[43minput_name\u001b[49m\u001b[43m=\u001b[49m\u001b[33;43m\"\u001b[39;49m\u001b[33;43mX\u001b[39;49m\u001b[33;43m\"\u001b[39;49m\u001b[43m,\u001b[49m\u001b[43m \u001b[49m\u001b[43m*\u001b[49m\u001b[43m*\u001b[49m\u001b[43mcheck_params\u001b[49m\u001b[43m)\u001b[49m\n\u001b[32m   2945\u001b[39m \u001b[38;5;28;01melif\u001b[39;00m no_val_X \u001b[38;5;129;01mand\u001b[39;00m \u001b[38;5;129;01mnot\u001b[39;00m no_val_y:\n\u001b[32m   2946\u001b[39m     out = _check_y(y, **check_params)\n",
      "\u001b[36mFile \u001b[39m\u001b[32m~/Desktop/UM/project 2/velopix_tracking/venv/lib/python3.12/site-packages/sklearn/utils/validation.py:987\u001b[39m, in \u001b[36mcheck_array\u001b[39m\u001b[34m(array, accept_sparse, accept_large_sparse, dtype, order, copy, force_writeable, force_all_finite, ensure_all_finite, ensure_non_negative, ensure_2d, allow_nd, ensure_min_samples, ensure_min_features, estimator, input_name)\u001b[39m\n\u001b[32m    983\u001b[39m \u001b[38;5;28;01mif\u001b[39;00m dtype \u001b[38;5;129;01mis\u001b[39;00m \u001b[38;5;129;01mnot\u001b[39;00m \u001b[38;5;28;01mNone\u001b[39;00m \u001b[38;5;129;01mand\u001b[39;00m _is_numpy_namespace(xp):\n\u001b[32m    984\u001b[39m     \u001b[38;5;66;03m# convert to dtype object to conform to Array API to be use `xp.isdtype` later\u001b[39;00m\n\u001b[32m    985\u001b[39m     dtype = np.dtype(dtype)\n\u001b[32m--> \u001b[39m\u001b[32m987\u001b[39m estimator_name = \u001b[43m_check_estimator_name\u001b[49m\u001b[43m(\u001b[49m\u001b[43mestimator\u001b[49m\u001b[43m)\u001b[49m\n\u001b[32m    988\u001b[39m context = \u001b[33m\"\u001b[39m\u001b[33m by \u001b[39m\u001b[38;5;132;01m%s\u001b[39;00m\u001b[33m\"\u001b[39m % estimator_name \u001b[38;5;28;01mif\u001b[39;00m estimator \u001b[38;5;129;01mis\u001b[39;00m \u001b[38;5;129;01mnot\u001b[39;00m \u001b[38;5;28;01mNone\u001b[39;00m \u001b[38;5;28;01melse\u001b[39;00m \u001b[33m\"\u001b[39m\u001b[33m\"\u001b[39m\n\u001b[32m    990\u001b[39m \u001b[38;5;66;03m# When all dataframe columns are sparse, convert to a sparse array\u001b[39;00m\n",
      "\u001b[36mFile \u001b[39m\u001b[32m~/Desktop/UM/project 2/velopix_tracking/venv/lib/python3.12/site-packages/sklearn/utils/validation.py:683\u001b[39m, in \u001b[36m_check_estimator_name\u001b[39m\u001b[34m(estimator)\u001b[39m\n\u001b[32m    674\u001b[39m     \u001b[38;5;28;01mif\u001b[39;00m (\n\u001b[32m    675\u001b[39m         \u001b[38;5;28mhasattr\u001b[39m(array, \u001b[33m\"\u001b[39m\u001b[33mdtype\u001b[39m\u001b[33m\"\u001b[39m)\n\u001b[32m    676\u001b[39m         \u001b[38;5;129;01mand\u001b[39;00m array.dtype \u001b[38;5;129;01mis\u001b[39;00m \u001b[38;5;129;01mnot\u001b[39;00m \u001b[38;5;28;01mNone\u001b[39;00m\n\u001b[32m    677\u001b[39m         \u001b[38;5;129;01mand\u001b[39;00m \u001b[38;5;28mhasattr\u001b[39m(array.dtype, \u001b[33m\"\u001b[39m\u001b[33mkind\u001b[39m\u001b[33m\"\u001b[39m)\n\u001b[32m    678\u001b[39m         \u001b[38;5;129;01mand\u001b[39;00m array.dtype.kind == \u001b[33m\"\u001b[39m\u001b[33mc\u001b[39m\u001b[33m\"\u001b[39m\n\u001b[32m    679\u001b[39m     ):\n\u001b[32m    680\u001b[39m         \u001b[38;5;28;01mraise\u001b[39;00m \u001b[38;5;167;01mValueError\u001b[39;00m(\u001b[33m\"\u001b[39m\u001b[33mComplex data not supported\u001b[39m\u001b[38;5;130;01m\\n\u001b[39;00m\u001b[38;5;132;01m{}\u001b[39;00m\u001b[38;5;130;01m\\n\u001b[39;00m\u001b[33m\"\u001b[39m.format(array))\n\u001b[32m--> \u001b[39m\u001b[32m683\u001b[39m \u001b[38;5;28;01mdef\u001b[39;00m\u001b[38;5;250m \u001b[39m\u001b[34m_check_estimator_name\u001b[39m(estimator):\n\u001b[32m    684\u001b[39m     \u001b[38;5;28;01mif\u001b[39;00m estimator \u001b[38;5;129;01mis\u001b[39;00m \u001b[38;5;129;01mnot\u001b[39;00m \u001b[38;5;28;01mNone\u001b[39;00m:\n\u001b[32m    685\u001b[39m         \u001b[38;5;28;01mif\u001b[39;00m \u001b[38;5;28misinstance\u001b[39m(estimator, \u001b[38;5;28mstr\u001b[39m):\n",
      "\u001b[31mKeyboardInterrupt\u001b[39m: "
     ]
    }
   ],
   "source": [
    "Optimiser = ExampleOptimiser(learning_rate=0.05)\n",
    "optimal_parameters = pipeline.optimise_parameters(Optimiser, max_runs=10) # DO NOT remove max_runs, chances are that this will run forever"
   ]
  },
  {
   "cell_type": "code",
   "execution_count": null,
   "metadata": {},
   "outputs": [
    {
     "name": "stdout",
     "output_type": "stream",
     "text": [
      "{}\n"
     ]
    }
   ],
   "source": [
    "print(optimal_parameters) # Note these are just here for example..."
   ]
  }
 ],
 "metadata": {
  "kernelspec": {
   "display_name": "venv",
   "language": "python",
   "name": "python3"
  },
  "language_info": {
   "codemirror_mode": {
    "name": "ipython",
    "version": 3
   },
   "file_extension": ".py",
   "mimetype": "text/x-python",
   "name": "python",
   "nbconvert_exporter": "python",
   "pygments_lexer": "ipython3",
   "version": "3.12.3"
  }
 },
 "nbformat": 4,
 "nbformat_minor": 2
}
