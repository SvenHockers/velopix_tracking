{
 "cells": [
  {
   "cell_type": "markdown",
   "metadata": {},
   "source": [
    "# Example Optimiser"
   ]
  },
  {
   "cell_type": "code",
   "execution_count": 44,
   "metadata": {},
   "outputs": [],
   "source": [
    "import os \n",
    "import sys\n",
    "import json\n",
    "sys.path.append(os.path.abspath(\"..\"))\n",
    "\n",
    "from velopix_wrappers.parameter_optimisers import optimiserBase\n",
    "from velopix_wrappers.velopix_pipeline import TrackFollowingPipeline, GraphDFSPipeline, SearchByTripletTriePipeline\n",
    "from typing import Any, Dict\n",
    "import random\n",
    "import numpy as np\n",
    "from sklearn.gaussian_process import GaussianProcessRegressor\n",
    "from sklearn.gaussian_process.kernels import RBF, ConstantKernel as C\n"
   ]
  },
  {
   "cell_type": "markdown",
   "metadata": {},
   "source": [
    "## Implement the optimiser child class"
   ]
  },
  {
   "cell_type": "code",
   "execution_count": null,
   "metadata": {},
   "outputs": [],
   "source": [
    "from typing import Any, Dict\n",
    "import random\n",
    "import numpy as np\n",
    "from sklearn.gaussian_process import GaussianProcessRegressor\n",
    "from sklearn.gaussian_process.kernels import RBF, ConstantKernel as C\n",
    "\n",
    "class BayesianOptimiser(optimiserBase):\n",
    "    def __init__(self, learning_rate, max_iterations=100, target_score=0.3):\n",
    "        super().__init__()\n",
    "        self.learning_rate = learning_rate\n",
    "        self.max_iterations = max_iterations\n",
    "        self.target_score = target_score\n",
    "        self.best_score = float(\"inf\")\n",
    "        self.current_iteration = 0\n",
    "\n",
    "        # To store previous evaluations\n",
    "        self.X = []  # Parameter sets (input)\n",
    "        self.Y = []  # Objective function results (output)\n",
    "\n",
    "        # Gaussian Process initialization\n",
    "        kernel = C(1.0, (1e-4, 1e1)) * RBF(1.0, (1e-4, 1e1))\n",
    "        self.gpr = GaussianProcessRegressor(kernel=kernel, n_restarts_optimizer=10)\n",
    "\n",
    "    def init(self) -> Dict[str, Any]:\n",
    "        \"\"\"\n",
    "        Initializes the optimization process by setting an initial parameter map.\n",
    "        \"\"\"\n",
    "        pMap = self._algorithm.get_config()  # Get a copy of the parameter schema\n",
    "\n",
    "        initial_param_set = {}\n",
    "\n",
    "        for key, (expected_type, _) in pMap.items():\n",
    "            if expected_type == float:\n",
    "                initial_param_set[key] = random.uniform(0, 1)  # Random float between 0 and 1\n",
    "            elif expected_type == int:\n",
    "                initial_param_set[key] = random.randint(0, 10)  # Random integer between 0 and 10\n",
    "            elif expected_type == bool:\n",
    "                initial_param_set[key] = random.choice([True, False])  # Random boolean\n",
    "            elif expected_type == list:\n",
    "                initial_param_set[key] = []  # Assign an empty list (or populate it if needed)\n",
    "\n",
    "        # Evaluate the initial point\n",
    "        self.X.append(list(initial_param_set.values()))\n",
    "        self.Y.append(self.objective_func(initial_param_set))\n",
    "\n",
    "        print(f\"Initial parameter set: {initial_param_set}\")\n",
    "\n",
    "        return initial_param_set\n",
    "\n",
    "    def next(self) -> Dict[str, Any]:\n",
    "        \"\"\"\n",
    "        Uses Bayesian Optimization to generate the next parameter map by predicting the next best set.\n",
    "        \"\"\"\n",
    "        if len(self.X) > 1:\n",
    "            # Fit Gaussian Process model\n",
    "            self.gpr.fit(self.X, self.Y)\n",
    "\n",
    "        # Generate the next set of parameters using Bayesian Optimization\n",
    "        next_param_set = self._predict_next()\n",
    "\n",
    "        self.X.append(list(next_param_set.values()))  # Add the new point to X\n",
    "        self.Y.append(self.objective_func(next_param_set))  # Evaluate the next point and add to Y\n",
    "\n",
    "        return next_param_set\n",
    "\n",
    "    def _predict_next(self) -> Dict[str, Any]:\n",
    "        \"\"\"\n",
    "        Predicts the next parameter set using the Gaussian Process model.\n",
    "        \"\"\"\n",
    "        # For simplicity, we'll randomly sample a set of points to evaluate and pick the one with the best acquisition value.\n",
    "        pMap = self._algorithm.get_config()\n",
    "        param_space = []\n",
    "\n",
    "        for key, (expected_type, _) in pMap.items():\n",
    "            low, high = self._algorithm._bounds().get(key)\n",
    "            if expected_type == float:\n",
    "                # Sample a random float within the given bounds\n",
    "                param_space.append(np.random.uniform(low, high, 10))  # 10 random candidates between low and high\n",
    "            elif expected_type == int:\n",
    "                # Sample a random integer within the given bounds\n",
    "                param_space.append(np.random.randint(low, high + 1, 10))  # 10 random integers between low and high\n",
    "            elif expected_type == bool:\n",
    "                # Sample random booleans as before (since there are no bounds for booleans)\n",
    "                param_space.append(np.random.choice([True, False], size=10))  # 10 random booleans\n",
    "            elif expected_type == list:\n",
    "                # For lists, sample randomly if there are bounds\n",
    "                # This part may depend on how the bounds for lists are defined\n",
    "                param_space.append([np.random.randint(0, 10, size=np.random.randint(1, 5)) for _ in range(10)])  # 10 random lists\n",
    "\n",
    "        print(f\"temp param space: {param_space}\")\n",
    "\n",
    "        #TODO: Save best parameter set to self.best_config(?)\n",
    "\n",
    "        # Now you can use these candidates to query the acquisition function (simplified)\n",
    "        best_candidate = None\n",
    "        best_acquisition_value = float('inf')\n",
    "        \n",
    "        for candidate in self._generate_candidates(param_space):\n",
    "            X_candidate = np.array(candidate).reshape(1, -1)\n",
    "            acquisition_value = self._acquisition_function(X_candidate)\n",
    "            if acquisition_value < best_acquisition_value:\n",
    "                best_candidate = candidate\n",
    "                best_acquisition_value = acquisition_value\n",
    "\n",
    "        # Convert the best candidate back into the parameter set format\n",
    "        pMap = self._algorithm.get_config()\n",
    "        next_param_set = {key: value for key, value in zip(pMap.keys(), best_candidate)}\n",
    "\n",
    "        print(f\"Next parameter set: {next_param_set}\")\n",
    "\n",
    "        return next_param_set\n",
    "\n",
    "    def _generate_candidates(self, param_space):\n",
    "        \"\"\"\n",
    "        Generates candidates from the parameter space.\n",
    "        \"\"\"\n",
    "        # In this case, we're just randomly sampling from the parameter space for simplicity\n",
    "        candidates = list(np.array(np.meshgrid(*param_space)).T.reshape(-1, len(param_space)))\n",
    "        return candidates\n",
    "\n",
    "    def _acquisition_function(self, X_candidate):\n",
    "        \"\"\"\n",
    "        Acquisition function to guide the optimization.\n",
    "        For simplicity, using a simple negative expected improvement here.\n",
    "        \"\"\"\n",
    "        mean, std = self.gpr.predict(X_candidate, return_std=True)\n",
    "        return -mean  # Expected improvement simplification: pick the most uncertain area\n",
    "\n",
    "    def objective_func(self, param_set: Dict[str, Any]) -> float:\n",
    "        \"\"\"\n",
    "        Converts the results of an experiment into a numeric score.\n",
    "        In this example, we simulate a loss function that we aim to minimize.\n",
    "        \"\"\"\n",
    "        # Fake evaluation function\n",
    "        # Use the actual parameters and compute the score from the experiment\n",
    "        return abs(self.learning_rate - 0.05) + random.uniform(0, 0.01)\n",
    "\n",
    "    def is_finished(self) -> bool:\n",
    "        \"\"\"\n",
    "        Determines if the optimization process is finished.\n",
    "        In this case, it stops after `max_iterations` iterations or the target score is reached.\n",
    "        \"\"\"\n",
    "        return self.best_score < self.target_score or self.current_iteration >= self.max_iterations\n"
   ]
  },
  {
   "cell_type": "markdown",
   "metadata": {},
   "source": [
    "**Load event data**"
   ]
  },
  {
   "cell_type": "code",
   "execution_count": 46,
   "metadata": {},
   "outputs": [
    {
     "name": "stdout",
     "output_type": "stream",
     "text": [
      "Loading file: velo_event_0.json\n",
      "Loading file: velo_event_1.json\n",
      "Loading file: velo_event_2.json\n",
      "Loading file: velo_event_3.json\n",
      "Loading file: velo_event_4.json\n",
      "Loading file: velo_event_5.json\n",
      "Loading file: velo_event_6.json\n",
      "Loading file: velo_event_7.json\n",
      "Loading file: velo_event_8.json\n",
      "Loading file: velo_event_9.json\n",
      "Loading file: velo_event_10.json\n",
      "Loading file: velo_event_11.json\n",
      "Loading file: velo_event_12.json\n",
      "Loading file: velo_event_13.json\n",
      "Loading file: velo_event_14.json\n",
      "Loading file: velo_event_15.json\n",
      "Loading file: velo_event_16.json\n",
      "Loading file: velo_event_17.json\n",
      "Loading file: velo_event_18.json\n",
      "Loading file: velo_event_19.json\n",
      "Loading file: velo_event_20.json\n",
      "Loading file: velo_event_21.json\n",
      "Loading file: velo_event_22.json\n",
      "Loading file: velo_event_23.json\n",
      "Loading file: velo_event_24.json\n",
      "Loading file: velo_event_25.json\n",
      "Loading file: velo_event_26.json\n",
      "Loading file: velo_event_27.json\n",
      "Loading file: velo_event_28.json\n",
      "Loading file: velo_event_29.json\n",
      "Loading file: velo_event_30.json\n",
      "Loading file: velo_event_31.json\n",
      "Loading file: velo_event_32.json\n",
      "Loading file: velo_event_33.json\n",
      "Loading file: velo_event_34.json\n",
      "Loading file: velo_event_35.json\n",
      "Loading file: velo_event_36.json\n",
      "Loading file: velo_event_37.json\n",
      "Loading file: velo_event_38.json\n",
      "Loading file: velo_event_39.json\n",
      "Loading file: velo_event_40.json\n",
      "Loading file: velo_event_41.json\n",
      "Loading file: velo_event_42.json\n",
      "Loading file: velo_event_43.json\n",
      "Loading file: velo_event_44.json\n",
      "Loading file: velo_event_45.json\n",
      "Loading file: velo_event_46.json\n",
      "Loading file: velo_event_47.json\n",
      "Loading file: velo_event_48.json\n",
      "Loading file: velo_event_49.json\n",
      "Loading file: velo_event_50.json\n",
      "Skipping problematic file: velo_event_51.json\n",
      "Loading file: velo_event_52.json\n",
      "Loading file: velo_event_53.json\n",
      "Loading file: velo_event_54.json\n",
      "Loading file: velo_event_55.json\n",
      "Loading file: velo_event_56.json\n",
      "Loading file: velo_event_57.json\n",
      "Loading file: velo_event_58.json\n",
      "Loading file: velo_event_59.json\n",
      "Loading file: velo_event_60.json\n",
      "Loading file: velo_event_61.json\n",
      "Loading file: velo_event_62.json\n",
      "Loading file: velo_event_63.json\n",
      "Loading file: velo_event_64.json\n",
      "Loading file: velo_event_65.json\n",
      "Loading file: velo_event_66.json\n",
      "Loading file: velo_event_67.json\n",
      "Loading file: velo_event_68.json\n",
      "Loading file: velo_event_69.json\n",
      "Loading file: velo_event_70.json\n",
      "Loading file: velo_event_71.json\n",
      "Loading file: velo_event_72.json\n",
      "Loading file: velo_event_73.json\n",
      "Loading file: velo_event_74.json\n",
      "Loading file: velo_event_75.json\n",
      "Loading file: velo_event_76.json\n",
      "Loading file: velo_event_77.json\n",
      "Loading file: velo_event_78.json\n",
      "Loading file: velo_event_79.json\n",
      "Loading file: velo_event_80.json\n",
      "Loading file: velo_event_81.json\n",
      "Loading file: velo_event_82.json\n",
      "Loading file: velo_event_83.json\n",
      "Loading file: velo_event_84.json\n",
      "Loading file: velo_event_85.json\n",
      "Loading file: velo_event_86.json\n",
      "Loading file: velo_event_87.json\n",
      "Loading file: velo_event_88.json\n",
      "Loading file: velo_event_89.json\n",
      "Loading file: velo_event_90.json\n",
      "Loading file: velo_event_91.json\n",
      "Loading file: velo_event_92.json\n",
      "Loading file: velo_event_93.json\n",
      "Loading file: velo_event_94.json\n",
      "Loading file: velo_event_95.json\n",
      "Loading file: velo_event_96.json\n",
      "Loading file: velo_event_97.json\n",
      "Loading file: velo_event_98.json\n",
      "Loading file: velo_event_99.json\n"
     ]
    }
   ],
   "source": [
    "events = []\n",
    "n_files = 100\n",
    "\n",
    "for i in range(0, n_files):\n",
    "    if i == 51:\n",
    "        \"\"\"\n",
    "        There's an issue with event 51 -> module_prefix_sum contains value 79 twice resulting in and indexing error when loading the event\n",
    "        \"\"\"\n",
    "        print(f\"Skipping problematic file: velo_event_{i}.json\")\n",
    "    else:    \n",
    "        print(f\"Loading file: velo_event_{i}.json\")\n",
    "        event_file = open(os.path.join(\"../DB/raw\", f\"velo_event_{i}.json\"))\n",
    "        json_data = json.loads(event_file.read())\n",
    "        events.append(json_data)\n",
    "        event_file.close()"
   ]
  },
  {
   "cell_type": "code",
   "execution_count": 47,
   "metadata": {},
   "outputs": [],
   "source": [
    "pipeline = TrackFollowingPipeline(events=events, intra_node=False)"
   ]
  },
  {
   "cell_type": "code",
   "execution_count": null,
   "metadata": {},
   "outputs": [
    {
     "name": "stdout",
     "output_type": "stream",
     "text": [
      "Initial parameter set: {'x_slope': 0.8987096821652251, 'y_slope': 0.033896254633258294, 'x_tol': 0.7361048489303326, 'y_tol': 0.4729339581645684, 'scatter': 0.7204142797211387}\n"
     ]
    },
    {
     "name": "stderr",
     "output_type": "stream",
     "text": [
      "Optimising:  10%|█         | 1/10 [00:01<00:15,  1.71s/it]"
     ]
    },
    {
     "name": "stdout",
     "output_type": "stream",
     "text": [
      "temp param space: [array([0.10294941, 0.93376523, 0.87295784, 0.96052905, 0.82218285,\n",
      "       0.1960673 , 0.41708212, 0.53447607, 0.73034143, 0.05159812]), array([0.12500998, 0.59351614, 0.88194581, 0.39564965, 0.84089879,\n",
      "       0.83463086, 0.79335354, 0.8900538 , 0.33454592, 0.59847425]), array([0.47909861, 0.66226974, 0.68660045, 0.66295235, 0.79250916,\n",
      "       0.4915044 , 0.56536541, 0.54713049, 0.78400457, 0.79531387]), array([0.56129037, 0.56647853, 0.45279764, 0.49562295, 0.46006599,\n",
      "       0.57819637, 0.53032054, 0.43159728, 0.72074206, 0.46357409]), array([0.49622229, 0.03119338, 0.67390927, 0.10020481, 0.1478961 ,\n",
      "       0.75185622, 0.39183346, 0.37975827, 0.37326952, 0.17565408])]\n"
     ]
    },
    {
     "name": "stderr",
     "output_type": "stream",
     "text": [
      "Optimising:  20%|██        | 2/10 [00:07<00:32,  4.02s/it]"
     ]
    },
    {
     "name": "stdout",
     "output_type": "stream",
     "text": [
      "Next parameter set: {'x_slope': np.float64(0.1029494136693857), 'y_slope': np.float64(0.12500997576416262), 'x_tol': np.float64(0.4790986123063894), 'y_tol': np.float64(0.5612903708584694), 'scatter': np.float64(0.49622228878509855)}\n",
      "temp param space: [array([0.4876346 , 0.48698218, 0.04788626, 0.10157675, 0.74959094,\n",
      "       0.0610747 , 0.55614315, 0.41637582, 0.29658253, 0.91737777]), array([0.59772517, 0.54240213, 0.85862571, 0.16068373, 0.89264334,\n",
      "       0.50956637, 0.7742638 , 0.49504112, 0.03854242, 0.51197545]), array([0.44880547, 0.7019586 , 0.6825078 , 0.47583991, 0.45518057,\n",
      "       0.46968782, 0.6815659 , 0.44241933, 0.75221368, 0.44165571]), array([0.75668907, 0.43302103, 0.44791308, 0.71052741, 0.75341333,\n",
      "       0.41623799, 0.66062271, 0.72972518, 0.46702159, 0.6941013 ]), array([0.19737345, 0.34059784, 0.38714406, 0.11740354, 0.13200029,\n",
      "       0.352487  , 0.62338231, 0.25921202, 0.51742836, 0.67197155])]\n"
     ]
    },
    {
     "name": "stderr",
     "output_type": "stream",
     "text": [
      "/home/neto/Desktop/UM/project 2/velopix_tracking/venv/lib/python3.12/site-packages/sklearn/gaussian_process/kernels.py:442: ConvergenceWarning: The optimal value found for dimension 0 of parameter k1__constant_value is close to the specified lower bound 0.0001. Decreasing the bound and calling fit again may find a better value.\n",
      "  warnings.warn(\n"
     ]
    },
    {
     "name": "stdout",
     "output_type": "stream",
     "text": [
      "Next parameter set: {'x_slope': np.float64(0.04788626349491465), 'y_slope': np.float64(0.8926433364181403), 'x_tol': np.float64(0.44165571089645317), 'y_tol': np.float64(0.756689074510561), 'scatter': np.float64(0.11740354418105935)}\n"
     ]
    },
    {
     "name": "stderr",
     "output_type": "stream",
     "text": [
      "Optimising:  30%|███       | 3/10 [00:17<00:47,  6.78s/it]/home/neto/Desktop/UM/project 2/velopix_tracking/venv/lib/python3.12/site-packages/sklearn/gaussian_process/kernels.py:442: ConvergenceWarning: The optimal value found for dimension 0 of parameter k1__constant_value is close to the specified lower bound 0.0001. Decreasing the bound and calling fit again may find a better value.\n",
      "  warnings.warn(\n"
     ]
    },
    {
     "name": "stdout",
     "output_type": "stream",
     "text": [
      "temp param space: [array([0.79939693, 0.56379274, 0.7422431 , 0.03587868, 0.38557634,\n",
      "       0.95044339, 0.69749761, 0.4393306 , 0.45183944, 0.49171674]), array([0.91515654, 0.9889777 , 0.19093763, 0.82975024, 0.10530113,\n",
      "       0.79443182, 0.72300854, 0.87902686, 0.5812117 , 0.56625863]), array([0.69102919, 0.71337477, 0.52186034, 0.68369059, 0.60746443,\n",
      "       0.44637611, 0.75675687, 0.65080026, 0.60457728, 0.51224272]), array([0.42074364, 0.58814705, 0.58747923, 0.71282716, 0.78123168,\n",
      "       0.51190017, 0.60560277, 0.65380495, 0.48050658, 0.5928814 ]), array([0.09725731, 0.69426908, 0.4246349 , 0.07685588, 0.75886401,\n",
      "       0.67031049, 0.544     , 0.42315922, 0.34612872, 0.38220605])]\n",
      "Next parameter set: {'x_slope': np.float64(0.03587868426421048), 'y_slope': np.float64(0.10530113245065298), 'x_tol': np.float64(0.44637611442463765), 'y_tol': np.float64(0.4207436353248087), 'scatter': np.float64(0.7588640077115162)}\n"
     ]
    },
    {
     "name": "stderr",
     "output_type": "stream",
     "text": [
      "Optimising:  40%|████      | 4/10 [00:28<00:51,  8.53s/it]/home/neto/Desktop/UM/project 2/velopix_tracking/venv/lib/python3.12/site-packages/sklearn/gaussian_process/kernels.py:442: ConvergenceWarning: The optimal value found for dimension 0 of parameter k1__constant_value is close to the specified lower bound 0.0001. Decreasing the bound and calling fit again may find a better value.\n",
      "  warnings.warn(\n"
     ]
    },
    {
     "name": "stdout",
     "output_type": "stream",
     "text": [
      "temp param space: [array([0.69849281, 0.93687531, 0.9824068 , 0.01195376, 0.52406032,\n",
      "       0.01554718, 0.25756635, 0.81614503, 0.10374436, 0.23191127]), array([0.79582483, 0.9312587 , 0.46709142, 0.11172217, 0.81408197,\n",
      "       0.38313417, 0.40874315, 0.33307149, 0.86648647, 0.85428578]), array([0.44711885, 0.46839762, 0.52868922, 0.52187005, 0.5893101 ,\n",
      "       0.71971194, 0.52642525, 0.79037785, 0.76355807, 0.61754717]), array([0.68870777, 0.42962967, 0.74439485, 0.46485574, 0.7523282 ,\n",
      "       0.41673533, 0.56666534, 0.44286141, 0.76777653, 0.74175614]), array([0.58385528, 0.77085051, 0.19209198, 0.42802159, 0.38894719,\n",
      "       0.70546472, 0.2573819 , 0.56846138, 0.14394605, 0.06609106])]\n"
     ]
    },
    {
     "name": "stderr",
     "output_type": "stream",
     "text": [
      "Optimising:  50%|█████     | 5/10 [00:38<00:44,  8.99s/it]"
     ]
    },
    {
     "name": "stdout",
     "output_type": "stream",
     "text": [
      "Next parameter set: {'x_slope': np.float64(0.01195376015705052), 'y_slope': np.float64(0.11172216862762041), 'x_tol': np.float64(0.4471188533587968), 'y_tol': np.float64(0.41673532669373325), 'scatter': np.float64(0.7708505117077652)}\n",
      "temp param space: [array([0.68399953, 0.17017633, 0.19921267, 0.40691141, 0.39313544,\n",
      "       0.60809369, 0.10408172, 0.71061137, 0.74709189, 0.42315989]), array([0.70447675, 0.89673686, 0.37744164, 0.51376959, 0.8079074 ,\n",
      "       0.17485736, 0.19688278, 0.94342272, 0.51104096, 0.57727649]), array([0.62033053, 0.76387218, 0.65535609, 0.41881267, 0.49298241,\n",
      "       0.51269597, 0.61818934, 0.45122104, 0.4115409 , 0.44631091]), array([0.79290329, 0.78101259, 0.56882718, 0.44161904, 0.47022727,\n",
      "       0.64804158, 0.42217334, 0.64372077, 0.73713029, 0.59023143]), array([0.39199388, 0.10519451, 0.09877691, 0.26849085, 0.11173161,\n",
      "       0.72942591, 0.498759  , 0.27636936, 0.58894314, 0.18006407])]\n"
     ]
    },
    {
     "name": "stderr",
     "output_type": "stream",
     "text": [
      "/home/neto/Desktop/UM/project 2/velopix_tracking/venv/lib/python3.12/site-packages/sklearn/gaussian_process/kernels.py:442: ConvergenceWarning: The optimal value found for dimension 0 of parameter k1__constant_value is close to the specified lower bound 0.0001. Decreasing the bound and calling fit again may find a better value.\n",
      "  warnings.warn(\n"
     ]
    },
    {
     "name": "stdout",
     "output_type": "stream",
     "text": [
      "Next parameter set: {'x_slope': np.float64(0.1040817207332787), 'y_slope': np.float64(0.1748573583255454), 'x_tol': np.float64(0.49298241018562783), 'y_tol': np.float64(0.5688271813150312), 'scatter': np.float64(0.4987589990563812)}\n"
     ]
    },
    {
     "name": "stderr",
     "output_type": "stream",
     "text": [
      "Optimising:  60%|██████    | 6/10 [00:49<00:39,  9.82s/it]/home/neto/Desktop/UM/project 2/velopix_tracking/venv/lib/python3.12/site-packages/sklearn/gaussian_process/kernels.py:442: ConvergenceWarning: The optimal value found for dimension 0 of parameter k1__constant_value is close to the specified lower bound 0.0001. Decreasing the bound and calling fit again may find a better value.\n",
      "  warnings.warn(\n"
     ]
    },
    {
     "name": "stdout",
     "output_type": "stream",
     "text": [
      "temp param space: [array([0.84492128, 0.99527348, 0.29806641, 0.03541837, 0.82885762,\n",
      "       0.69398158, 0.7620763 , 0.33848078, 0.88982969, 0.34050375]), array([0.99616109, 0.28167729, 0.2544869 , 0.88574584, 0.0479986 ,\n",
      "       0.08557915, 0.6356125 , 0.3600982 , 0.93958101, 0.26094614]), array([0.55837616, 0.47782011, 0.43987198, 0.58757647, 0.52032119,\n",
      "       0.60619726, 0.61210446, 0.72826046, 0.41465451, 0.57446879]), array([0.63162596, 0.58179823, 0.5820368 , 0.59584929, 0.52139326,\n",
      "       0.64012235, 0.67884324, 0.51272156, 0.69236417, 0.58377548]), array([0.69078417, 0.03939899, 0.78258702, 0.57179867, 0.14713578,\n",
      "       0.05279533, 0.51270073, 0.75073084, 0.26348949, 0.75824741])]\n",
      "Next parameter set: {'x_slope': np.float64(0.8898296863995746), 'y_slope': np.float64(0.04799860166394099), 'x_tol': np.float64(0.728260462370182), 'y_tol': np.float64(0.5127215623007902), 'scatter': np.float64(0.6907841670863885)}\n"
     ]
    },
    {
     "name": "stderr",
     "output_type": "stream",
     "text": [
      "Optimising:  70%|███████   | 7/10 [01:00<00:30, 10.01s/it]/home/neto/Desktop/UM/project 2/velopix_tracking/venv/lib/python3.12/site-packages/sklearn/gaussian_process/kernels.py:442: ConvergenceWarning: The optimal value found for dimension 0 of parameter k1__constant_value is close to the specified lower bound 0.0001. Decreasing the bound and calling fit again may find a better value.\n",
      "  warnings.warn(\n"
     ]
    },
    {
     "name": "stdout",
     "output_type": "stream",
     "text": [
      "temp param space: [array([0.1312339 , 0.57328094, 0.46775182, 0.12806867, 0.36753843,\n",
      "       0.37735242, 0.84348795, 0.95913849, 0.88215102, 0.37417851]), array([0.74091291, 0.50909962, 0.83411   , 0.24413717, 0.97979229,\n",
      "       0.06846404, 0.75067174, 0.40439405, 0.32439336, 0.42834208]), array([0.40928312, 0.78685271, 0.73188482, 0.54464421, 0.70020383,\n",
      "       0.45428322, 0.66602947, 0.78362266, 0.70490269, 0.54107969]), array([0.53182034, 0.6128842 , 0.68007404, 0.78149295, 0.65832238,\n",
      "       0.49481618, 0.49764337, 0.51461144, 0.58744926, 0.59471206]), array([0.43732594, 0.48407569, 0.61637954, 0.56158863, 0.59216919,\n",
      "       0.3389715 , 0.40758439, 0.01495334, 0.15976558, 0.46629608])]\n",
      "Next parameter set: {'x_slope': np.float64(0.13123390342623176), 'y_slope': np.float64(0.7409129084285822), 'x_tol': np.float64(0.40928312421956103), 'y_tol': np.float64(0.5318203412560806), 'scatter': np.float64(0.4373259444833488)}\n"
     ]
    },
    {
     "name": "stderr",
     "output_type": "stream",
     "text": [
      "Optimising:  80%|████████  | 8/10 [01:11<00:20, 10.40s/it]/home/neto/Desktop/UM/project 2/velopix_tracking/venv/lib/python3.12/site-packages/sklearn/gaussian_process/kernels.py:442: ConvergenceWarning: The optimal value found for dimension 0 of parameter k1__constant_value is close to the specified lower bound 0.0001. Decreasing the bound and calling fit again may find a better value.\n",
      "  warnings.warn(\n"
     ]
    },
    {
     "name": "stdout",
     "output_type": "stream",
     "text": [
      "temp param space: [array([0.15214981, 0.83803853, 0.91548076, 0.98320918, 0.58153777,\n",
      "       0.86160877, 0.93316835, 0.48523419, 0.98219297, 0.34922301]), array([0.17515745, 0.07971492, 0.14881747, 0.4224034 , 0.87952346,\n",
      "       0.79743446, 0.96417609, 0.48542345, 0.82043733, 0.11614147]), array([0.57918183, 0.73211617, 0.65933557, 0.63817803, 0.78733189,\n",
      "       0.48507333, 0.45000735, 0.5699699 , 0.50270342, 0.48723498]), array([0.75991008, 0.45308814, 0.70783704, 0.67729064, 0.44663726,\n",
      "       0.52014743, 0.68327734, 0.54641254, 0.79449126, 0.42361425]), array([0.72663266, 0.60858213, 0.49234288, 0.30891767, 0.26902738,\n",
      "       0.31802187, 0.40760574, 0.70238572, 0.03597058, 0.32718094])]\n",
      "Next parameter set: {'x_slope': np.float64(0.15214981415729267), 'y_slope': np.float64(0.1488174662652645), 'x_tol': np.float64(0.4850733319221243), 'y_tol': np.float64(0.5464125432909537), 'scatter': np.float64(0.4923428835581784)}\n"
     ]
    },
    {
     "name": "stderr",
     "output_type": "stream",
     "text": [
      "Optimising:  90%|█████████ | 9/10 [01:23<00:10, 10.76s/it]/home/neto/Desktop/UM/project 2/velopix_tracking/venv/lib/python3.12/site-packages/sklearn/gaussian_process/kernels.py:442: ConvergenceWarning: The optimal value found for dimension 0 of parameter k1__constant_value is close to the specified lower bound 0.0001. Decreasing the bound and calling fit again may find a better value.\n",
      "  warnings.warn(\n"
     ]
    },
    {
     "name": "stdout",
     "output_type": "stream",
     "text": [
      "temp param space: [array([0.08737838, 0.09482659, 0.16893636, 0.68714812, 0.55424484,\n",
      "       0.88272112, 0.76076961, 0.17596076, 0.04449686, 0.67515209]), array([0.62535863, 0.49812935, 0.05244901, 0.18940221, 0.63113153,\n",
      "       0.87745804, 0.88160742, 0.86999726, 0.6468682 , 0.04525353]), array([0.50646972, 0.51916475, 0.65899452, 0.75219136, 0.78153679,\n",
      "       0.7358726 , 0.78767206, 0.58345812, 0.66374504, 0.56933185]), array([0.77480629, 0.59291322, 0.5352038 , 0.6658954 , 0.66158216,\n",
      "       0.58101989, 0.47415614, 0.51985847, 0.57153685, 0.53666315]), array([0.39755911, 0.77921944, 0.10086065, 0.33015582, 0.29713793,\n",
      "       0.469675  , 0.41775847, 0.43069428, 0.02874346, 0.68378135])]\n",
      "Next parameter set: {'x_slope': np.float64(0.8827211245030829), 'y_slope': np.float64(0.04525353082882899), 'x_tol': np.float64(0.7358725962058361), 'y_tol': np.float64(0.47415613586411487), 'scatter': np.float64(0.6837813478942689)}\n"
     ]
    },
    {
     "name": "stderr",
     "output_type": "stream",
     "text": [
      "Optimising: 100%|██████████| 10/10 [01:33<00:00,  9.38s/it]\n"
     ]
    }
   ],
   "source": [
    "Optimiser = BayesianOptimiser(learning_rate=0.05)\n",
    "optimal_parameters = pipeline.optimise_parameters(Optimiser, max_runs=10) # DO NOT remove max_runs, chances are that this will run forever (NO, I do what I want :-|)"
   ]
  },
  {
   "cell_type": "code",
   "execution_count": 50,
   "metadata": {},
   "outputs": [
    {
     "name": "stdout",
     "output_type": "stream",
     "text": [
      "{}\n"
     ]
    }
   ],
   "source": [
    "print(optimal_parameters) # Note these are just here for example..."
   ]
  }
 ],
 "metadata": {
  "kernelspec": {
   "display_name": "venv",
   "language": "python",
   "name": "python3"
  },
  "language_info": {
   "codemirror_mode": {
    "name": "ipython",
    "version": 3
   },
   "file_extension": ".py",
   "mimetype": "text/x-python",
   "name": "python",
   "nbconvert_exporter": "python",
   "pygments_lexer": "ipython3",
   "version": "3.12.3"
  }
 },
 "nbformat": 4,
 "nbformat_minor": 2
}
