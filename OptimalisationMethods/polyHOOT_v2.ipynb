{
 "cells": [
  {
   "cell_type": "code",
   "execution_count": null,
   "id": "731c6a62",
   "metadata": {},
   "outputs": [],
   "source": [
    "import os \n",
    "import sys\n",
    "import json \n",
    "sys.path.append(os.path.abspath(\"..\"))\n",
    "\n"
   ]
  }
 ],
 "metadata": {
  "language_info": {
   "name": "python"
  }
 },
 "nbformat": 4,
 "nbformat_minor": 5
}
