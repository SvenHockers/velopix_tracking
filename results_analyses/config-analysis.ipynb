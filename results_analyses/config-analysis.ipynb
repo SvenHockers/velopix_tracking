{
 "cells": [
  {
   "cell_type": "code",
   "execution_count": 68,
   "id": "5419aa3e",
   "metadata": {},
   "outputs": [],
   "source": [
    "import networkx as nx\n",
    "import pandas as pd\n",
    "import json\n",
    "\n",
    "from matplotlib import pyplot as plt\n",
    "from collections.abc import Mapping\n",
    "from typing import Any, Literal\n",
    "from itertools import product\n",
    "from pathlib import Path\n",
    "from math import isnan"
   ]
  },
  {
   "cell_type": "code",
   "execution_count": 69,
   "id": "c4776611",
   "metadata": {},
   "outputs": [],
   "source": [
    "def load_records(result_file_name: str) -> list[Mapping[str, Any]]:\n",
    "    records: list[Mapping[str, Any]] = []\n",
    "    with open(Path(\"./results\") / result_file_name, 'r') as file:\n",
    "        dpth: int = 0\n",
    "        buff: list[str] = []\n",
    "        for raw in file:\n",
    "            line = raw.strip()\n",
    "            if not line:\n",
    "                continue\n",
    "            dpth += line.count('{')\n",
    "            dpth -= line.count('}')\n",
    "            buff.append(raw)\n",
    "            if dpth == 0 and buff:\n",
    "                chunk = ''.join(buff)\n",
    "                obj = json.loads(chunk)\n",
    "                records.append(obj)\n",
    "                buff = []\n",
    "    return records"
   ]
  },
  {
   "cell_type": "code",
   "execution_count": 70,
   "id": "cbf5e2dd",
   "metadata": {},
   "outputs": [],
   "source": [
    "def best_record(records: list[Mapping[str, Any]]) -> Mapping[str, Any]:\n",
    "    best: Mapping[str, Any] = {}\n",
    "    for record in records:\n",
    "        for uid, details in record.items():\n",
    "            if not best or details['score'] < best['score']:\n",
    "                best = {'id': uid, **details}\n",
    "    return best"
   ]
  },
  {
   "cell_type": "code",
   "execution_count": 71,
   "id": "b26e7960",
   "metadata": {},
   "outputs": [],
   "source": [
    "def load_config(result_file_name: str) -> Mapping[str, Any]:\n",
    "    stem = Path(result_file_name).stem            \n",
    "    config_name = stem.removeprefix(\"result_\")      \n",
    "    \n",
    "    config_path = Path(\"configurations\") / f\"{config_name}.json\"\n",
    "    \n",
    "    # 3) Open & load the JSON\n",
    "    with config_path.open(\"r\", encoding=\"utf-8\") as f:\n",
    "        config = json.load(f)\n",
    "    return config"
   ]
  },
  {
   "cell_type": "code",
   "execution_count": 72,
   "id": "75756ec9",
   "metadata": {},
   "outputs": [],
   "source": [
    "def load_experiment(experiment_name: str) -> Mapping[str, Any]:\n",
    "    result_file_name = f\"result_{experiment_name}.jsonl\"\n",
    "    records = load_records(result_file_name)\n",
    "    best = best_record(records)\n",
    "    best[\"real_tracks\"] = best.get(\"total_tracks\", float(\"nan\")) - best.get(\"total_tracks\", float(\"nan\")) * ((best[\"event_avg_ghost_rate\"] / 100.) + (best[\"clone_percentage\"] / 100.) - (best[\"event_avg_ghost_rate\"] / 100.) * (best[\"clone_percentage\"] / 100.))\n",
    "    config = load_config(result_file_name)\n",
    "    return {\n",
    "        \"name\": experiment_name,\n",
    "        \"result\": best,\n",
    "        \"config\": config\n",
    "    }"
   ]
  },
  {
   "cell_type": "code",
   "execution_count": 73,
   "id": "0d16be7a",
   "metadata": {},
   "outputs": [],
   "source": [
    "def load_all_experiments() -> list[Mapping[str, Any]]:\n",
    "    experiments: list[Mapping[str, Any]] = []\n",
    "    for result_file in Path(\"./results\").glob(\"result_*.jsonl\"):\n",
    "        experiment_name = result_file.stem.removeprefix(\"result_\")\n",
    "        experiment = load_experiment(experiment_name)\n",
    "        if isnan(experiment[\"result\"][\"real_tracks\"]):\n",
    "            continue\n",
    "        experiments.append(experiment)\n",
    "    return experiments"
   ]
  },
  {
   "cell_type": "code",
   "execution_count": 74,
   "id": "774a2d59",
   "metadata": {},
   "outputs": [],
   "source": [
    "def only_experiments_with(algorithm: Literal[\"ST\", \"TF\", \"GDFS\"], weights: tuple[float, float, float, float]) -> list[Mapping[str, Any]]:\n",
    "    experiments = load_all_experiments()\n",
    "    filtered: list[Mapping[str, Any]] = []\n",
    "    for experiment in experiments:\n",
    "        config = experiment[\"config\"]\n",
    "        optimizer = config[\"optimizer\"]\n",
    "        if config[\"reconstruction_algo\"] == algorithm and optimizer[\"weights\"] == list(weights):\n",
    "            filtered.append(experiment)\n",
    "    return filtered"
   ]
  },
  {
   "cell_type": "code",
   "execution_count": 75,
   "id": "a05e8794",
   "metadata": {},
   "outputs": [],
   "source": [
    "def extract_label(experiment: Mapping[str, Any]) -> str:\n",
    "    solver = experiment[\"config\"][\"solverName\"]\n",
    "    match solver:\n",
    "        case \"Bayesian\":\n",
    "            solver = \"BA\"\n",
    "        case \"ParticleSwarm\":\n",
    "            solver = \"PSO\"\n",
    "        case \"GridSearch\":\n",
    "            solver = \"GS\"\n",
    "        case \"PolyHoot\":\n",
    "            solver = \"PH\"\n",
    "        case _:\n",
    "            pass\n",
    "    algorithm = experiment[\"config\"][\"reconstruction_algo\"]\n",
    "    hyperparams = experiment[\"config\"][\"optimizer\"]\n",
    "    hyperparams = {k: v for k, v in hyperparams.items() if k not in [\"max_iterations\", \"objective\", \"nested\"]}\n",
    "    proto_label = {\n",
    "        \"solver\": solver\n",
    "    }\n",
    "    return json.dumps(proto_label, sort_keys=True)"
   ]
  },
  {
   "cell_type": "code",
   "execution_count": 76,
   "id": "9a183e24",
   "metadata": {},
   "outputs": [
    {
     "data": {
      "text/plain": [
       "80"
      ]
     },
     "execution_count": 76,
     "metadata": {},
     "output_type": "execute_result"
    }
   ],
   "source": [
    "all_algorithms: list[str] = [\"ST\", \"TF\"]\n",
    "all_weights: list[tuple[float, float, float, float]] = [\n",
    "    (0.1, 0.3, 0.5, -10.0),\n",
    "    (0.01, 0.5, 0.5, -7.0),\n",
    "    (0.4, 0.2, 0.5, -7.0),\n",
    "    (0.4, 0.2, 0.3, -5.0),\n",
    "]\n",
    "all_experiments = []\n",
    "for algorithm, weights in product(all_algorithms, all_weights):\n",
    "    filtered_experiments = only_experiments_with(algorithm, weights)\n",
    "    all_experiments.extend(filtered_experiments)\n",
    "len(all_experiments)"
   ]
  },
  {
   "cell_type": "code",
   "execution_count": 77,
   "id": "c172702f",
   "metadata": {},
   "outputs": [
    {
     "name": "stdout",
     "output_type": "stream",
     "text": [
      "{\n",
      "  \"name\": \"GridSearch_ST_1_8e073a00-eb33-4e5a-b0df-a8e01e452268\",\n",
      "  \"result\": {\n",
      "    \"id\": \"403a8a6e-6c26-41a1-8a6c-2bcb31c932f0\",\n",
      "    \"params\": {\n",
      "      \"scatter\": 1.0,\n",
      "      \"min_strong_track_length\": 1,\n",
      "      \"allowed_missed_modules\": 0\n",
      "    },\n",
      "    \"score\": -358631.8496802083,\n",
      "    \"total_ghosts\": 41724,\n",
      "    \"overall_ghost_rate\": 58.168130489335006,\n",
      "    \"event_avg_ghost_rate\": 52.24004392856315,\n",
      "    \"clone_percentage\": 2.8179457070145117,\n",
      "    \"total_tracks\": 71730,\n",
      "    \"time\": 0.3591747283935547,\n",
      "    \"real_tracks\": 33292.838549160784\n",
      "  },\n",
      "  \"config\": {\n",
      "    \"solverName\": \"GridSearch\",\n",
      "    \"num_events\": 100,\n",
      "    \"intra_node\": true,\n",
      "    \"max_runs\": 1000000,\n",
      "    \"optimizer\": {\n",
      "      \"objective\": \"min\",\n",
      "      \"nested\": true,\n",
      "      \"weights\": [\n",
      "        0.4,\n",
      "        0.2,\n",
      "        0.3,\n",
      "        -5.0\n",
      "      ],\n",
      "      \"resolution\": 7\n",
      "    },\n",
      "    \"reconstruction_algo\": \"ST\"\n",
      "  }\n",
      "}\n"
     ]
    }
   ],
   "source": [
    "print(json.dumps(all_experiments[70], indent=2))"
   ]
  },
  {
   "cell_type": "code",
   "execution_count": 78,
   "id": "d31e1f80",
   "metadata": {},
   "outputs": [
    {
     "data": {
      "text/plain": [
       "{'{\"solver\": \"PSO\"}': 10399.60044442563,\n",
       " '{\"solver\": \"GS\"}': 33292.34955215504,\n",
       " '{\"solver\": \"BA\"}': 32715.42348793528,\n",
       " '{\"solver\": \"PH\"}': 20778.474255617508}"
      ]
     },
     "execution_count": 78,
     "metadata": {},
     "output_type": "execute_result"
    }
   ],
   "source": [
    "real_tracks_list = {}\n",
    "label_to_experiment = {}\n",
    "for experiment in all_experiments:\n",
    "    label = extract_label(experiment)\n",
    "    real_tracks = experiment[\"result\"][\"real_tracks\"]\n",
    "    if label not in real_tracks_list:\n",
    "        real_tracks_list[label] = []\n",
    "        label_to_experiment[label] = experiment\n",
    "    real_tracks_list[label].append(real_tracks)\n",
    "avg_real_tracks = {label: sum(tracks) / len(tracks) for label, tracks in real_tracks_list.items()}\n",
    "avg_real_tracks"
   ]
  },
  {
   "cell_type": "code",
   "execution_count": 79,
   "id": "357604f2",
   "metadata": {},
   "outputs": [
    {
     "data": {
      "image/png": "[encoded data removed]",
      "text/plain": [
       "<Figure size 1200x700 with 1 Axes>"
      ]
     },
     "metadata": {},
     "output_type": "display_data"
    }
   ],
   "source": [
    "import matplotlib.pyplot as plt\n",
    "import json\n",
    "import numpy as np\n",
    "\n",
    "# Parse the labels and prepare data for plotting\n",
    "solvers = []\n",
    "values = []\n",
    "std_devs = []\n",
    "\n",
    "# Sort items by solver name for consistency\n",
    "for label_json, avg_value in sorted(avg_real_tracks.items(), key=lambda x: json.loads(x[0])[\"solver\"]):\n",
    "    label_dict = json.loads(label_json)\n",
    "    solver = label_dict[\"solver\"]\n",
    "    \n",
    "    # Convert abbreviations back to full names\n",
    "    solver_full_name = {\n",
    "        \"BA\": \"Bayesian\",\n",
    "        \"PSO\": \"ParticleSwarm\",\n",
    "        \"GS\": \"GridSearch\",\n",
    "        \"PH\": \"PolyHoot\"\n",
    "    }.get(solver, solver)\n",
    "    \n",
    "    solvers.append(solver_full_name)\n",
    "    values.append(avg_value)\n",
    "    \n",
    "    # Calculate standard deviation\n",
    "    std_dev = np.std(real_tracks_list[label_json])\n",
    "    std_devs.append(std_dev)\n",
    "\n",
    "# Create the bar chart with error bars\n",
    "plt.figure(figsize=(12, 7))\n",
    "bars = plt.bar(solvers, values, yerr=std_devs, capsize=7, \n",
    "               color=['#0F45A8', '#3559E5', '#196876', '#5891AD'], \n",
    "               alpha=0.8, edgecolor='black', linewidth=1)\n",
    "\n",
    "# Add data labels below each bar\n",
    "for bar, value in zip(bars, values):\n",
    "    plt.text(\n",
    "        bar.get_x() + bar.get_width() / 2,\n",
    "        -max(values) * -0.05,  # Position below x-axis\n",
    "        f'{value:.1f}',\n",
    "        ha='center', va='top',\n",
    "        fontsize=11, fontweight='bold',\n",
    "        bbox=dict(facecolor='white', alpha=0.7, boxstyle='round,pad=0.3', edgecolor='gray')\n",
    "    )\n",
    "\n",
    "# Add title and labels\n",
    "plt.title('Average Real Tracks by Solver Algorithm', fontsize=16, fontweight='bold', pad=20)\n",
    "plt.xlabel('Solver', fontsize=14, fontweight='bold', labelpad=10)\n",
    "plt.ylabel('Average Number of Real Tracks', fontsize=14, fontweight='bold', labelpad=10)\n",
    "\n",
    "# Add grid for better readability\n",
    "plt.grid(axis='y', linestyle='--', alpha=0.3, zorder=0)\n",
    "\n",
    "plt.rcParams.update({\n",
    "                \"figure.facecolor\":   \"#F6F6F6\",  # <- Correct key with hex\n",
    "                \"axes.facecolor\":     \"#FFFFFF\",  # <- Optional: set axes background\n",
    "                \"font.family\":        \"serif\",\n",
    "                \"font.serif\":         [\"Times New Roman\", \"Palatino\", \"serif\"],\n",
    "                \"axes.linewidth\":     1.0,\n",
    "                \"xtick.major.size\":   5,\n",
    "                \"ytick.major.size\":   5,\n",
    "                \"xtick.major.width\":  0.8,\n",
    "                \"ytick.major.width\":  0.8,\n",
    "                \"axes.grid\":          True,\n",
    "                \"grid.color\":         \"#999999\",\n",
    "                \"grid.alpha\":         0.2,\n",
    "                \"grid.linestyle\":     \"--\"\n",
    "            })\n",
    "\n",
    "# Improve styling\n",
    "plt.xticks(fontsize=12, fontweight='bold')\n",
    "plt.yticks(fontsize=11)\n",
    "\n",
    "plt.ylim(0, None)\n",
    "\n",
    "# Add bottom padding to make room for labels\n",
    "plt.subplots_adjust(bottom=0.15)\n",
    "\n",
    "plt.tight_layout()\n",
    "plt.show()"
   ]
  },
  {
   "cell_type": "code",
   "execution_count": 80,
   "id": "e8f8f541",
   "metadata": {},
   "outputs": [],
   "source": [
    "def extract_label(experiment: Mapping[str, Any]) -> str:\n",
    "    solver = experiment[\"config\"][\"solverName\"]\n",
    "    match solver:\n",
    "        case \"Bayesian\":\n",
    "            solver = \"BA\"\n",
    "        case \"ParticleSwarm\":\n",
    "            solver = \"PSO\"\n",
    "        case \"GridSearch\":\n",
    "            solver = \"GS\"\n",
    "        case \"PolyHoot\":\n",
    "            solver = \"PH\"\n",
    "        case _:\n",
    "            pass\n",
    "    algorithm = experiment[\"config\"][\"reconstruction_algo\"]\n",
    "    hyperparams = experiment[\"config\"][\"optimizer\"]\n",
    "    hyperparams = {k: v for k, v in hyperparams.items() if k not in [\"max_iterations\", \"objective\", \"nested\"]}\n",
    "    proto_label = {\n",
    "        \"algorithm\": algorithm\n",
    "    }\n",
    "    return json.dumps(proto_label, sort_keys=True)"
   ]
  },
  {
   "cell_type": "code",
   "execution_count": 81,
   "id": "d28a2f67",
   "metadata": {},
   "outputs": [
    {
     "data": {
      "text/plain": [
       "{'{\"algorithm\": \"ST\"}': 27832.088293433895,\n",
       " '{\"algorithm\": \"TF\"}': 102.81332020476718}"
      ]
     },
     "execution_count": 81,
     "metadata": {},
     "output_type": "execute_result"
    }
   ],
   "source": [
    "real_tracks_list = {}\n",
    "label_to_experiment = {}\n",
    "for experiment in all_experiments:\n",
    "    label = extract_label(experiment)\n",
    "    real_tracks = experiment[\"result\"][\"real_tracks\"]\n",
    "    if label not in real_tracks_list:\n",
    "        real_tracks_list[label] = []\n",
    "        label_to_experiment[label] = experiment\n",
    "    real_tracks_list[label].append(real_tracks)\n",
    "avg_real_tracks = {label: sum(tracks) / len(tracks) for label, tracks in real_tracks_list.items()}\n",
    "avg_real_tracks"
   ]
  }
 ],
 "metadata": {
  "kernelspec": {
   "display_name": "venv",
   "language": "python",
   "name": "python3"
  },
  "language_info": {
   "codemirror_mode": {
    "name": "ipython",
    "version": 3
   },
   "file_extension": ".py",
   "mimetype": "text/x-python",
   "name": "python",
   "nbconvert_exporter": "python",
   "pygments_lexer": "ipython3",
   "version": "3.13.2"
  }
 },
 "nbformat": 4,
 "nbformat_minor": 5
}
