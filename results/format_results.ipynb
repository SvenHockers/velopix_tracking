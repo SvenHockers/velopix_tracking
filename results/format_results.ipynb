{
 "cells": [
  {
   "cell_type": "code",
   "execution_count": 5,
   "id": "aa964780",
   "metadata": {},
   "outputs": [],
   "source": [
    "import json\n",
    "import pandas as pd\n",
    "\n",
    "import matplotlib.pyplot as plt"
   ]
  },
  {
   "cell_type": "code",
   "execution_count": 8,
   "id": "3d88ef33",
   "metadata": {},
   "outputs": [],
   "source": [
    "def parse_results(path: str) -> pd.DataFrame:\n",
    "    records = []\n",
    "    with open(path, 'r') as f:\n",
    "        buffer = []\n",
    "        depth = 0\n",
    "\n",
    "        for raw in f:\n",
    "            line = raw.strip()\n",
    "            if not line:\n",
    "                continue  # skip blank lines\n",
    "\n",
    "            # Track nesting of braces\n",
    "            depth += line.count('{')\n",
    "            depth -= line.count('}')\n",
    "\n",
    "            buffer.append(raw)\n",
    "            # If we’ve closed all opened braces, process one full JSON object\n",
    "            if depth == 0 and buffer:\n",
    "                chunk = ''.join(buffer)\n",
    "                obj = json.loads(chunk)\n",
    "                # same flattening logic as before\n",
    "                for uid, details in obj.items():\n",
    "                    params = details.pop('params')\n",
    "                    flat = {'id': uid, **details}\n",
    "                    for p, v in params.items():\n",
    "                        if isinstance(v, list) and len(v) == 2:\n",
    "                            flat[f'{p}_min'] = v[0]\n",
    "                            flat[f'{p}_max'] = v[1]\n",
    "                        else:\n",
    "                            flat[p] = v\n",
    "                    records.append(flat)\n",
    "                buffer = []\n",
    "    return pd.DataFrame(records)"
   ]
  },
  {
   "cell_type": "code",
   "execution_count": 9,
   "id": "5aa4552f",
   "metadata": {},
   "outputs": [],
   "source": [
    "path = \"example_result.jsonl\"\n",
    "df = parse_results(path)"
   ]
  },
  {
   "cell_type": "code",
   "execution_count": 14,
   "id": "c40046ba",
   "metadata": {},
   "outputs": [
    {
     "data": {
      "application/vnd.microsoft.datawrangler.viewer.v0+json": {
       "columns": [
        {
         "name": "index",
         "rawType": "int64",
         "type": "integer"
        },
        {
         "name": "id",
         "rawType": "object",
         "type": "string"
        },
        {
         "name": "score",
         "rawType": "float64",
         "type": "float"
        },
        {
         "name": "total_ghosts",
         "rawType": "int64",
         "type": "integer"
        },
        {
         "name": "overall_ghost_rate",
         "rawType": "float64",
         "type": "float"
        },
        {
         "name": "event_avg_ghost_rate",
         "rawType": "float64",
         "type": "float"
        },
        {
         "name": "clone_percentage",
         "rawType": "float64",
         "type": "float"
        },
        {
         "name": "max_slope_min",
         "rawType": "float64",
         "type": "float"
        },
        {
         "name": "max_slope_max",
         "rawType": "float64",
         "type": "float"
        },
        {
         "name": "max_tol_min",
         "rawType": "float64",
         "type": "float"
        },
        {
         "name": "max_tol_max",
         "rawType": "float64",
         "type": "float"
        },
        {
         "name": "scatter",
         "rawType": "float64",
         "type": "float"
        }
       ],
       "ref": "1b42832a-646f-443e-822b-304dde209704",
       "rows": [
        [
         "995",
         "cfc029f0-59a4-4b68-ad66-5ce8e6330d6a",
         "47.75096902608871",
         "7",
         "87.5",
         "6.0606060606060606",
         "0.0",
         "0.000244140625",
         "0.003662109375",
         "0.000244140625",
         "0.003662109375",
         "0.2029296875"
        ],
        [
         "996",
         "03fcc834-b04f-47fd-8613-c408a5ca7a5e",
         "47.75087010145187",
         "7",
         "87.5",
         "6.0606060606060606",
         "0.0",
         "0.000244140625",
         "0.003662109375",
         "0.000244140625",
         "0.003662109375",
         "0.2021484375"
        ],
        [
         "997",
         "5adc6a5d-f309-4185-b2a0-4ffa6324322e",
         "47.750833055973054",
         "7",
         "87.5",
         "6.0606060606060606",
         "0.0",
         "0.000244140625",
         "0.003662109375",
         "0.000244140625",
         "0.003662109375",
         "0.2029296875"
        ],
        [
         "998",
         "24b77033-8fa4-4f16-bb4b-1eae5619454f",
         "47.75080789089203",
         "7",
         "87.5",
         "6.0606060606060606",
         "0.0",
         "0.000244140625",
         "0.003173828125",
         "0.000244140625",
         "0.003173828125",
         "0.2021484375"
        ],
        [
         "999",
         "328644f9-ec84-4b73-bce9-c258fcaed659",
         "47.75079789876938",
         "7",
         "87.5",
         "6.0606060606060606",
         "0.0",
         "0.000244140625",
         "0.003662109375",
         "0.000244140625",
         "0.003662109375",
         "0.20253906249999998"
        ]
       ],
       "shape": {
        "columns": 11,
        "rows": 5
       }
      },
      "text/html": [
       "<div>\n",
       "<style scoped>\n",
       "    .dataframe tbody tr th:only-of-type {\n",
       "        vertical-align: middle;\n",
       "    }\n",
       "\n",
       "    .dataframe tbody tr th {\n",
       "        vertical-align: top;\n",
       "    }\n",
       "\n",
       "    .dataframe thead th {\n",
       "        text-align: right;\n",
       "    }\n",
       "</style>\n",
       "<table border=\"1\" class=\"dataframe\">\n",
       "  <thead>\n",
       "    <tr style=\"text-align: right;\">\n",
       "      <th></th>\n",
       "      <th>id</th>\n",
       "      <th>score</th>\n",
       "      <th>total_ghosts</th>\n",
       "      <th>overall_ghost_rate</th>\n",
       "      <th>event_avg_ghost_rate</th>\n",
       "      <th>clone_percentage</th>\n",
       "      <th>max_slope_min</th>\n",
       "      <th>max_slope_max</th>\n",
       "      <th>max_tol_min</th>\n",
       "      <th>max_tol_max</th>\n",
       "      <th>scatter</th>\n",
       "    </tr>\n",
       "  </thead>\n",
       "  <tbody>\n",
       "    <tr>\n",
       "      <th>995</th>\n",
       "      <td>cfc029f0-59a4-4b68-ad66-5ce8e6330d6a</td>\n",
       "      <td>47.750969</td>\n",
       "      <td>7</td>\n",
       "      <td>87.5</td>\n",
       "      <td>6.060606</td>\n",
       "      <td>0.0</td>\n",
       "      <td>0.000244</td>\n",
       "      <td>0.003662</td>\n",
       "      <td>0.000244</td>\n",
       "      <td>0.003662</td>\n",
       "      <td>0.202930</td>\n",
       "    </tr>\n",
       "    <tr>\n",
       "      <th>996</th>\n",
       "      <td>03fcc834-b04f-47fd-8613-c408a5ca7a5e</td>\n",
       "      <td>47.750870</td>\n",
       "      <td>7</td>\n",
       "      <td>87.5</td>\n",
       "      <td>6.060606</td>\n",
       "      <td>0.0</td>\n",
       "      <td>0.000244</td>\n",
       "      <td>0.003662</td>\n",
       "      <td>0.000244</td>\n",
       "      <td>0.003662</td>\n",
       "      <td>0.202148</td>\n",
       "    </tr>\n",
       "    <tr>\n",
       "      <th>997</th>\n",
       "      <td>5adc6a5d-f309-4185-b2a0-4ffa6324322e</td>\n",
       "      <td>47.750833</td>\n",
       "      <td>7</td>\n",
       "      <td>87.5</td>\n",
       "      <td>6.060606</td>\n",
       "      <td>0.0</td>\n",
       "      <td>0.000244</td>\n",
       "      <td>0.003662</td>\n",
       "      <td>0.000244</td>\n",
       "      <td>0.003662</td>\n",
       "      <td>0.202930</td>\n",
       "    </tr>\n",
       "    <tr>\n",
       "      <th>998</th>\n",
       "      <td>24b77033-8fa4-4f16-bb4b-1eae5619454f</td>\n",
       "      <td>47.750808</td>\n",
       "      <td>7</td>\n",
       "      <td>87.5</td>\n",
       "      <td>6.060606</td>\n",
       "      <td>0.0</td>\n",
       "      <td>0.000244</td>\n",
       "      <td>0.003174</td>\n",
       "      <td>0.000244</td>\n",
       "      <td>0.003174</td>\n",
       "      <td>0.202148</td>\n",
       "    </tr>\n",
       "    <tr>\n",
       "      <th>999</th>\n",
       "      <td>328644f9-ec84-4b73-bce9-c258fcaed659</td>\n",
       "      <td>47.750798</td>\n",
       "      <td>7</td>\n",
       "      <td>87.5</td>\n",
       "      <td>6.060606</td>\n",
       "      <td>0.0</td>\n",
       "      <td>0.000244</td>\n",
       "      <td>0.003662</td>\n",
       "      <td>0.000244</td>\n",
       "      <td>0.003662</td>\n",
       "      <td>0.202539</td>\n",
       "    </tr>\n",
       "  </tbody>\n",
       "</table>\n",
       "</div>"
      ],
      "text/plain": [
       "                                       id      score  total_ghosts  \\\n",
       "995  cfc029f0-59a4-4b68-ad66-5ce8e6330d6a  47.750969             7   \n",
       "996  03fcc834-b04f-47fd-8613-c408a5ca7a5e  47.750870             7   \n",
       "997  5adc6a5d-f309-4185-b2a0-4ffa6324322e  47.750833             7   \n",
       "998  24b77033-8fa4-4f16-bb4b-1eae5619454f  47.750808             7   \n",
       "999  328644f9-ec84-4b73-bce9-c258fcaed659  47.750798             7   \n",
       "\n",
       "     overall_ghost_rate  event_avg_ghost_rate  clone_percentage  \\\n",
       "995                87.5              6.060606               0.0   \n",
       "996                87.5              6.060606               0.0   \n",
       "997                87.5              6.060606               0.0   \n",
       "998                87.5              6.060606               0.0   \n",
       "999                87.5              6.060606               0.0   \n",
       "\n",
       "     max_slope_min  max_slope_max  max_tol_min  max_tol_max   scatter  \n",
       "995       0.000244       0.003662     0.000244     0.003662  0.202930  \n",
       "996       0.000244       0.003662     0.000244     0.003662  0.202148  \n",
       "997       0.000244       0.003662     0.000244     0.003662  0.202930  \n",
       "998       0.000244       0.003174     0.000244     0.003174  0.202148  \n",
       "999       0.000244       0.003662     0.000244     0.003662  0.202539  "
      ]
     },
     "execution_count": 14,
     "metadata": {},
     "output_type": "execute_result"
    }
   ],
   "source": [
    "df.tail()"
   ]
  },
  {
   "cell_type": "markdown",
   "id": "1833e776",
   "metadata": {},
   "source": [
    "**plot the score / itterations**"
   ]
  },
  {
   "cell_type": "code",
   "execution_count": 12,
   "id": "af366562",
   "metadata": {},
   "outputs": [
    {
     "data": {
      "image/png": "[encoded data removed]",
      "text/plain": [
       "<Figure size 640x480 with 1 Axes>"
      ]
     },
     "metadata": {},
     "output_type": "display_data"
    }
   ],
   "source": [
    "plt.figure()\n",
    "plt.plot(df.index, df['score'])\n",
    "plt.xlabel('Itterations')\n",
    "plt.ylabel('Score')\n",
    "plt.title('Convergence')\n",
    "plt.grid()\n",
    "plt.show()\n"
   ]
  },
  {
   "cell_type": "code",
   "execution_count": null,
   "id": "deaf324a",
   "metadata": {},
   "outputs": [],
   "source": [
    "plt.figure()\n",
    "plt.plot(df.index, df['event_avg_ghost_rate'])\n",
    "plt.xlabel('Itterations')\n",
    "plt.ylabel('Score')\n",
    "plt.title('Convergence')\n",
    "plt.grid()\n",
    "plt.show()\n"
   ]
  }
 ],
 "metadata": {
  "kernelspec": {
   "display_name": "venv",
   "language": "python",
   "name": "python3"
  },
  "language_info": {
   "codemirror_mode": {
    "name": "ipython",
    "version": 3
   },
   "file_extension": ".py",
   "mimetype": "text/x-python",
   "name": "python",
   "nbconvert_exporter": "python",
   "pygments_lexer": "ipython3",
   "version": "3.13.2"
  }
 },
 "nbformat": 4,
 "nbformat_minor": 5
}
