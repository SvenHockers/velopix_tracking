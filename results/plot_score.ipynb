{
 "cells": [
  {
   "cell_type": "code",
   "execution_count": 1,
   "id": "caf66d7d",
   "metadata": {},
   "outputs": [],
   "source": [
    "import networkx as nx\n",
    "import pandas as pd\n",
    "import json\n",
    "\n",
    "from matplotlib import pyplot as plt\n",
    "from collections.abc import Mapping\n",
    "from typing import Any, Literal\n",
    "from itertools import product\n",
    "from pathlib import Path"
   ]
  },
  {
   "cell_type": "code",
   "execution_count": 2,
   "id": "57f4cabf",
   "metadata": {},
   "outputs": [],
   "source": [
    "def load_records(result_file_name: str) -> list[Mapping[str, Any]]:\n",
    "    records: list[Mapping[str, Any]] = []\n",
    "    with open(Path(\"./results\") / result_file_name, 'r') as file:\n",
    "        dpth: int = 0\n",
    "        buff: list[str] = []\n",
    "        for raw in file:\n",
    "            line = raw.strip()\n",
    "            if not line:\n",
    "                continue\n",
    "            dpth += line.count('{')\n",
    "            dpth -= line.count('}')\n",
    "            buff.append(raw)\n",
    "            if dpth == 0 and buff:\n",
    "                chunk = ''.join(buff)\n",
    "                obj = json.loads(chunk)\n",
    "                records.append(obj)\n",
    "                buff = []\n",
    "    return records"
   ]
  },
  {
   "cell_type": "code",
   "execution_count": 3,
   "id": "91a392f0",
   "metadata": {},
   "outputs": [],
   "source": [
    "def best_record(records: list[Mapping[str, Any]]) -> Mapping[str, Any]:\n",
    "    best: Mapping[str, Any] = {}\n",
    "    for record in records:\n",
    "        for uid, details in record.items():\n",
    "            if not best or details['score'] < best['score']:\n",
    "                best = {'id': uid, **details}\n",
    "    return best"
   ]
  },
  {
   "cell_type": "code",
   "execution_count": 4,
   "id": "6823ab0d",
   "metadata": {},
   "outputs": [],
   "source": [
    "def load_config(result_file_name: str) -> Mapping[str, Any]:\n",
    "    stem = Path(result_file_name).stem            \n",
    "    config_name = stem.removeprefix(\"result_\")      \n",
    "    \n",
    "    config_path = Path(\"configurations\") / f\"{config_name}.json\"\n",
    "    \n",
    "    # 3) Open & load the JSON\n",
    "    with config_path.open(\"r\", encoding=\"utf-8\") as f:\n",
    "        config = json.load(f)\n",
    "    return config"
   ]
  },
  {
   "cell_type": "code",
   "execution_count": 5,
   "id": "321b475e",
   "metadata": {},
   "outputs": [],
   "source": [
    "def load_experiment(experiment_name: str) -> Mapping[str, Any]:\n",
    "    result_file_name = f\"result_{experiment_name}.jsonl\"\n",
    "    records = load_records(result_file_name)\n",
    "    best = best_record(records)\n",
    "    config = load_config(result_file_name)\n",
    "    return {\n",
    "        \"name\": experiment_name,\n",
    "        \"result\": best,\n",
    "        \"config\": config\n",
    "    }"
   ]
  },
  {
   "cell_type": "code",
   "execution_count": 6,
   "id": "717dde64",
   "metadata": {},
   "outputs": [],
   "source": [
    "def load_all_experiments() -> list[Mapping[str, Any]]:\n",
    "    experiments: list[Mapping[str, Any]] = []\n",
    "    for result_file in Path(\"./results\").glob(\"result_*.jsonl\"):\n",
    "        experiment_name = result_file.stem.removeprefix(\"result_\")\n",
    "        experiment = load_experiment(experiment_name)\n",
    "        experiments.append(experiment)\n",
    "    return experiments"
   ]
  },
  {
   "cell_type": "code",
   "execution_count": 7,
   "id": "16f58313",
   "metadata": {},
   "outputs": [],
   "source": [
    "def only_experiments_with(algorithm: Literal[\"ST\", \"TF\", \"GDFS\"], weights: tuple[float, float, float, float]) -> list[Mapping[str, Any]]:\n",
    "    experiments = load_all_experiments()\n",
    "    filtered: list[Mapping[str, Any]] = []\n",
    "    for experiment in experiments:\n",
    "        config = experiment[\"config\"]\n",
    "        optimizer = config[\"optimizer\"]\n",
    "        if config[\"reconstruction_algo\"] == algorithm and optimizer[\"weights\"] == list(weights):\n",
    "            filtered.append(experiment)\n",
    "    return filtered"
   ]
  },
  {
   "cell_type": "code",
   "execution_count": 23,
   "id": "cd3a5cab",
   "metadata": {},
   "outputs": [
    {
     "name": "stdout",
     "output_type": "stream",
     "text": [
      "Algorithm: ST, Weights: (0.1, 0.3, 0.5, -10.0)\n"
     ]
    }
   ],
   "source": [
    "all_algorithms: list[str] = [\"ST\"]\n",
    "all_weights: list[tuple[float, float, float, float]] = [\n",
    "    (0.1, 0.3, 0.5, -10.0),\n",
    " #   (0.01, 0.5, 0.5, -7.0),\n",
    " #   (0.4, 0.2, 0.5, -7.0),\n",
    " #   (0.4, 0.2, 0.3, -5.0),\n",
    "]\n",
    "all_experiments = []\n",
    "for algorithm, weights in product(all_algorithms, all_weights):\n",
    "    print(f\"Algorithm: {algorithm}, Weights: {weights}\")\n",
    "    filtered_experiments = only_experiments_with(algorithm, weights)\n",
    "    all_experiments.extend(filtered_experiments)\n",
    "    if not filtered_experiments:\n",
    "        print(\"No experiments found for this configuration.\")\n",
    "        continue"
   ]
  },
  {
   "cell_type": "code",
   "execution_count": 28,
   "id": "964f68d7",
   "metadata": {},
   "outputs": [
    {
     "name": "stdout",
     "output_type": "stream",
     "text": [
      "    result.score config.solverName\n",
      "0 -661751.168097          Bayesian\n",
      "1 -696360.263002          Bayesian\n",
      "2 -660501.889030          Bayesian\n",
      "3 -644271.778766          Bayesian\n",
      "4 -629812.030649          Bayesian\n",
      "['name', 'result.id', 'result.params.scatter', 'result.params.min_strong_track_length', 'result.params.allowed_missed_modules', 'result.score', 'result.total_ghosts', 'result.overall_ghost_rate', 'result.event_avg_ghost_rate', 'result.clone_percentage', 'result.total_tracks', 'result.time', 'config.solverName', 'config.num_events', 'config.intra_node', 'config.max_runs', 'config.optimizer.max_iterations', 'config.optimizer.objective', 'config.optimizer.nested', 'config.optimizer.weights', 'config.optimizer.learning_rate', 'config.optimizer.target_score', 'config.reconstruction_algo', 'config.optimizer.resolution', 'config.optimizer.inertia', 'config.optimizer.cognitive', 'config.optimizer.social', 'config.optimizer.swarm_size']\n"
     ]
    }
   ],
   "source": [
    "import pandas as pd\n",
    "\n",
    "# if your list is literally in `records`:\n",
    "# records = [ { ... }, { ... }, … ]\n",
    "\n",
    "# this will “flatten” all nested dicts into column names separated by dots\n",
    "df = pd.json_normalize(all_experiments)\n",
    "cols = ['result.score', 'config.solverName']\n",
    "df_sub = df[cols]\n",
    "print(df_sub.head())\n",
    "print(df.columns.tolist())"
   ]
  },
  {
   "cell_type": "code",
   "execution_count": 29,
   "id": "3b05e9d9",
   "metadata": {},
   "outputs": [
    {
     "name": "stdout",
     "output_type": "stream",
     "text": [
      "config.solverName\n",
      "Bayesian        -696360.263002\n",
      "GridSearch      -717280.043607\n",
      "ParticleSwarm      1492.642957\n",
      "PolyHoot          15902.063344\n",
      "Name: result.score, dtype: float64\n"
     ]
    },
    {
     "data": {
      "image/png": "[encoded data removed]",
      "text/plain": [
       "<Figure size 800x600 with 1 Axes>"
      ]
     },
     "metadata": {},
     "output_type": "display_data"
    }
   ],
   "source": [
    "import pandas as pd\n",
    "import matplotlib.pyplot as plt\n",
    "\n",
    "\n",
    "# 3. Compute lowest score per solver\n",
    "min_scores = df_sub.groupby('config.solverName')['result.score'].min()\n",
    "print(df_sub.groupby('config.solverName')['result.score'].min())\n",
    "\n",
    "# 4. Plot\n",
    "plt.figure(figsize=(8,6))\n",
    "plt.bar(min_scores.index, min_scores.values)\n",
    "plt.xlabel('Solver Name')\n",
    "plt.ylabel('Lowest Score')\n",
    "plt.title('Lowest Score by Solver')\n",
    "plt.tight_layout()\n",
    "plt.show()\n"
   ]
  }
 ],
 "metadata": {
  "kernelspec": {
   "display_name": "venv",
   "language": "python",
   "name": "python3"
  },
  "language_info": {
   "codemirror_mode": {
    "name": "ipython",
    "version": 3
   },
   "file_extension": ".py",
   "mimetype": "text/x-python",
   "name": "python",
   "nbconvert_exporter": "python",
   "pygments_lexer": "ipython3",
   "version": "3.10.9"
  }
 },
 "nbformat": 4,
 "nbformat_minor": 5
}
